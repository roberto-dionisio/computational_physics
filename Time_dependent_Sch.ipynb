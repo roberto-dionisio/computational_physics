{
 "cells": [
  {
   "cell_type": "markdown",
   "id": "5f391b1f",
   "metadata": {},
   "source": [
    "# The Time-Dependent Schrodinger Equation\n",
    "\n"
   ]
  },
  {
   "cell_type": "markdown",
   "id": "27b57988",
   "metadata": {},
   "source": [
    "The Time Dependent Schrodinger Equation (in a position basis with infinite boundaries) is \n",
    "\n",
    "$$ i \\hbar \\frac{\\partial}{\\partial t} \\psi(x,t) = -\\frac{\\hbar^2}{2m}\\frac{\\partial^2}{\\partial x^2}\\psi(x,t) + V(x) \\psi(x,t) \\hspace{20mm} \\psi(0, t) = \\psi(L,t)=0 $$\n",
    "\n",
    "We don't need to deal with extra parameters like $m$, $\\hbar$, etc. Multiplying both sides by $mL^2$ where $L$ is the characteristic length of the problem (here we are bounded in length $L$)\n",
    "\n",
    "$$ i mL^2 \\hbar \\frac{\\partial}{\\partial t} \\psi = -\\frac{1}{2}\\hbar^2 L^2\\frac{\\partial^2}{\\partial x^2}\\psi + mL^2V(x) \\psi $$\n",
    "\n",
    "Now choose the convention $\\hbar=1$ (So Joules=1/Seconds) and make the transformation\n",
    "\n",
    "* $x'=\\frac{x}{L}$\n",
    "* $t' = \\frac{t}{mL^2}$\n",
    "* $V' = mL^2V$\n",
    "\n",
    "You can check that with the convention $\\hbar=1$, all of the three quantities above are dimensionless. The Schrodinger equation with respect to these three variables becomes\n",
    "\n",
    "$$ i \\frac{\\partial}{\\partial t'} \\psi = -\\frac{1}{2}\\frac{\\partial^2}{\\partial x'^2}\\psi + V'(x) \\psi $$\n",
    "\n",
    "We solve this equation for $x'$ and $t'$ and then solve for $x$ and $t$ using \n",
    "\n",
    "* $x = Lx'$\n",
    "* $t = (mL^2) t'$\n",
    "* $V = (mL^2)^{-1} V'$\n",
    "\n",
    "**For all the numerical work we will drop the primes on $x'$, $t'$, and $V'$ but know that we are working with the primed quantities**"
   ]
  },
  {
   "cell_type": "markdown",
   "id": "4309f321",
   "metadata": {},
   "source": [
    "## 1st Technique : finite diff"
   ]
  },
  {
   "cell_type": "markdown",
   "id": "d0923956",
   "metadata": {},
   "source": [
    "Find the $\\psi_j$ and $E_j$'s that satisfy\n",
    "\n",
    "$$ -\\frac{1}{2}\\frac{\\partial^2}{\\partial x^2}\\psi + V(x) \\psi = E\\psi$$"
   ]
  },
  {
   "cell_type": "markdown",
   "id": "01c05896",
   "metadata": {},
   "source": [
    "rearranging:\n",
    "$$\\psi_{j}^{m+1} = \\psi_j^m + \\frac{i}{2}\\frac{\\Delta t}{\\Delta x^2}\\left(\\psi_{j+1}^{m} -2\\psi_j^m + \\psi_{j-1}^{m}\\right) - i \\Delta tV(x)\\psi_j^m$$ "
   ]
  },
  {
   "cell_type": "markdown",
   "id": "843228ce",
   "metadata": {},
   "source": [
    "## 2nd technique: Eigenstates evolution "
   ]
  },
  {
   "cell_type": "markdown",
   "id": "f76c9eef",
   "metadata": {},
   "source": [
    "Find the $\\psi_j$ and $E_j$'s that satisfy\n",
    "\n",
    "$$ -\\frac{1}{2}\\frac{\\partial^2}{\\partial x^2}\\psi + V(x) \\psi = E\\psi$$\n",
    "And then\n",
    "\n",
    "$$\\psi(x,t) = \\sum_{j=0}^\\infty c_j \\psi_j(x) e^{-i E_j t} \\hspace{20mm} c_j = \\int_{-\\infty}^{\\infty} \\psi(x, 0)\\psi_j^*(x) dx$$"
   ]
  },
  {
   "cell_type": "code",
   "execution_count": 1,
   "id": "3147bee0",
   "metadata": {},
   "outputs": [],
   "source": [
    "import numpy as np\n",
    "import matplotlib.pyplot as plt\n",
    "from matplotlib import animation\n",
    "from matplotlib.animation import PillowWriter\n",
    "import numba\n",
    "from numba import jit\n",
    "from scipy.linalg import eigh_tridiagonal\n",
    "plt.style.use(['science', 'notebook','grid'])\n"
   ]
  },
  {
   "cell_type": "code",
   "execution_count": 2,
   "id": "25886d31",
   "metadata": {},
   "outputs": [],
   "source": [
    "#technique 1\n",
    "Nx= 301\n",
    "Nt=100000\n",
    "dx = 1/(Nx-1)\n",
    "dt=1e-7\n",
    "x=np.linspace(0,1,Nx)\n",
    "psi0=np.sqrt(2)*np.sin(np.pi*x)\n",
    "mu, sigma = 1/2, 1/20\n",
    "V=-1e4*np.exp(-(x-mu)**2/(2*sigma**2))"
   ]
  },
  {
   "cell_type": "code",
   "execution_count": 3,
   "id": "acb70d82",
   "metadata": {},
   "outputs": [
    {
     "data": {
      "text/plain": [
       "1.0"
      ]
     },
     "execution_count": 3,
     "metadata": {},
     "output_type": "execute_result"
    }
   ],
   "source": [
    "#make sure that is normalize\n",
    "np.sum(np.abs(psi0)**2)*dx"
   ]
  },
  {
   "cell_type": "code",
   "execution_count": 4,
   "id": "c72a3caf",
   "metadata": {},
   "outputs": [
    {
     "data": {
      "text/plain": [
       "0.008999999999999998"
      ]
     },
     "execution_count": 4,
     "metadata": {},
     "output_type": "execute_result"
    }
   ],
   "source": [
    "#For the finite difference method this has to be small \n",
    "dt/dx**2"
   ]
  },
  {
   "cell_type": "code",
   "execution_count": 5,
   "id": "64aa617a",
   "metadata": {},
   "outputs": [
    {
     "data": {
      "image/png": "[encoded data removed]",
      "text/plain": [
       "<Figure size 720x288 with 1 Axes>"
      ]
     },
     "metadata": {
      "needs_background": "light"
     },
     "output_type": "display_data"
    }
   ],
   "source": [
    "plt.figure(figsize=(10,4))\n",
    "plt.plot(x,V)\n",
    "plt.xlabel('$x$')\n",
    "plt.ylabel('$V(x)$')\n",
    "plt.show()"
   ]
  },
  {
   "cell_type": "code",
   "execution_count": 6,
   "id": "ece214bc",
   "metadata": {},
   "outputs": [
    {
     "data": {
      "text/plain": [
       "(-10000.0, -1.2664165549094174e-10)"
      ]
     },
     "execution_count": 6,
     "metadata": {},
     "output_type": "execute_result"
    }
   ],
   "source": [
    "V[150], V[30]"
   ]
  },
  {
   "cell_type": "code",
   "execution_count": 7,
   "id": "3c8f786a",
   "metadata": {},
   "outputs": [
    {
     "data": {
      "text/plain": [
       "array([[0.00000000e+00, 1.48093391e-02, 2.96170542e-02, ...,\n",
       "        2.96170542e-02, 1.48093391e-02, 1.73191211e-16],\n",
       "       [0.00000000e+00, 0.00000000e+00, 0.00000000e+00, ...,\n",
       "        0.00000000e+00, 0.00000000e+00, 0.00000000e+00],\n",
       "       [0.00000000e+00, 0.00000000e+00, 0.00000000e+00, ...,\n",
       "        0.00000000e+00, 0.00000000e+00, 0.00000000e+00],\n",
       "       ...,\n",
       "       [0.00000000e+00, 0.00000000e+00, 0.00000000e+00, ...,\n",
       "        0.00000000e+00, 0.00000000e+00, 0.00000000e+00],\n",
       "       [0.00000000e+00, 0.00000000e+00, 0.00000000e+00, ...,\n",
       "        0.00000000e+00, 0.00000000e+00, 0.00000000e+00],\n",
       "       [0.00000000e+00, 0.00000000e+00, 0.00000000e+00, ...,\n",
       "        0.00000000e+00, 0.00000000e+00, 0.00000000e+00]])"
      ]
     },
     "execution_count": 7,
     "metadata": {},
     "output_type": "execute_result"
    }
   ],
   "source": [
    "#construct the array of psi(x,t)\n",
    "psi=np.zeros([Nt,Nx])\n",
    "psi[0]=psi0\n",
    "psi"
   ]
  },
  {
   "cell_type": "code",
   "execution_count": 8,
   "id": "fc6ac476",
   "metadata": {},
   "outputs": [],
   "source": [
    "@numba.jit(\"c16[:,:](c16[:,:])\", nopython=True, nogil=True)\n",
    "def compute_psi(psi):\n",
    "    for t in range(0, Nt-1):\n",
    "        for i in range(1, Nx-1):\n",
    "            psi[t+1][i] = psi[t][i] + 1j/2 * dt/dx**2 * (psi[t][i+1] - 2*psi[t][i] + psi[t][i-1]) - 1j*dt*V[i]*psi[t][i]\n",
    "        \n",
    "        normal = np.sum(np.absolute(psi[t+1])**2)*dx\n",
    "        for i in range(1, Nx-1):\n",
    "            psi[t+1][i] = psi[t+1][i]/normal\n",
    "        \n",
    "    return psi"
   ]
  },
  {
   "cell_type": "code",
   "execution_count": null,
   "id": "40da4d39",
   "metadata": {},
   "outputs": [],
   "source": []
  },
  {
   "cell_type": "code",
   "execution_count": 9,
   "id": "a1d2a448",
   "metadata": {},
   "outputs": [],
   "source": [
    "#So psi(x,t)\n",
    "psi_m1=compute_psi(psi.astype(complex))"
   ]
  },
  {
   "cell_type": "code",
   "execution_count": 10,
   "id": "d25f537f",
   "metadata": {
    "scrolled": true
   },
   "outputs": [
    {
     "data": {
      "text/plain": [
       "array([ 0.        +0.00000000e+00j,  0.01190853-1.59796972e-03j,\n",
       "        0.02382233-3.19777260e-03j,  0.03574733-4.80030408e-03j,\n",
       "        0.04769063-6.40456551e-03j,  0.05966119-8.00699292e-03j,\n",
       "        0.07167006-9.60066693e-03j,  0.08373091-1.11750884e-02j,\n",
       "        0.09585991-1.27156248e-02j,  0.10807608-1.42037412e-02j,\n",
       "        0.12040067-1.56167055e-02j,  0.13285727-1.69281325e-02j,\n",
       "        0.1454709 -1.81080023e-02j,  0.15826769-1.91233828e-02j,\n",
       "        0.17127397-1.99388420e-02j,  0.18451553-2.05173568e-02j,\n",
       "        0.19801687-2.08211592e-02j,  0.21180022-2.08129464e-02j,\n",
       "        0.22588513-2.04570962e-02j,  0.24028729-1.97212335e-02j,\n",
       "        0.25501858-1.85776222e-02j,  0.27008598-1.70049450e-02j,\n",
       "        0.28549193-1.49896019e-02j,  0.30123358-1.25273588e-02j,\n",
       "        0.31730336-9.62430618e-03j,  0.33368884-6.29797270e-03j,\n",
       "        0.35037341-2.57778730e-03j,  0.36733675+1.49460609e-03j,\n",
       "        0.38455579+5.86546597e-03j,  0.40200561+1.04694608e-02j,\n",
       "        0.41966065+1.52304189e-02j,  0.43749581+2.00625008e-02j,\n",
       "        0.45548774+2.48716203e-02j,  0.47361585+2.95570870e-02j,\n",
       "        0.49186335+3.40136840e-02j,  0.5102179 +3.81336446e-02j,\n",
       "        0.52867201+4.18092537e-02j,  0.54722315+4.49350654e-02j,\n",
       "        0.56587332+4.74107286e-02j,  0.58462855+4.91433178e-02j,\n",
       "        0.60349767+5.00499171e-02j,  0.62249129+5.00598520e-02j,\n",
       "        0.64162   +4.91164861e-02j,  0.66089294+4.71790529e-02j,\n",
       "        0.68031583+4.42232179e-02j,  0.69988938+4.02421551e-02j,\n",
       "        0.71960739+3.52457088e-02j,  0.73945523+2.92603988e-02j,\n",
       "        0.75940841+2.23273542e-02j,  0.77943132+1.45011216e-02j,\n",
       "        0.79947644+5.84678878e-03j,  0.81948385-3.56222930e-03j,\n",
       "        0.83938118-1.36473629e-02j,  0.85908414-2.43276519e-02j,\n",
       "        0.87849748-3.55227279e-02j,  0.8975167 -4.71554997e-02j,\n",
       "        0.91602997-5.91545348e-02j,  0.933921  -7.14560756e-02j,\n",
       "        0.95107173-8.40055066e-02j,  0.96736594-9.67582909e-02j,\n",
       "        0.98269236-1.09680340e-01j,  0.99694832-1.22747688e-01j,\n",
       "        1.01004277-1.35945741e-01j,  1.02189919-1.49267755e-01j,\n",
       "        1.03245793-1.62713074e-01j,  1.0416778 -1.76284735e-01j,\n",
       "        1.04953719-1.89986951e-01j,  1.05603398-2.03822346e-01j,\n",
       "        1.06118518-2.17789104e-01j,  1.06502518-2.31878421e-01j,\n",
       "        1.06760397-2.46071907e-01j,  1.06898401-2.60339781e-01j,\n",
       "        1.06923745-2.74639191e-01j,  1.06844232-2.88913512e-01j,\n",
       "        1.06667924-3.03092154e-01j,  1.06402776-3.17091095e-01j,\n",
       "        1.06056332-3.30814408e-01j,  1.05635452-3.44155968e-01j,\n",
       "        1.05146089-3.57002423e-01j,  1.04593175-3.69235807e-01j,\n",
       "        1.0398053 -3.80737247e-01j,  1.03310919-3.91389972e-01j,\n",
       "        1.02586119-4.01082798e-01j,  1.0180712 -4.09712831e-01j,\n",
       "        1.00974339-4.17187795e-01j,  1.00087907-4.23427636e-01j,\n",
       "        0.99147988-4.28365004e-01j,  0.98155064-4.31945086e-01j,\n",
       "        0.97110298-4.34123956e-01j,  0.96015742-4.34866290e-01j,\n",
       "        0.94874647-4.34141757e-01j,  0.93691557-4.31920761e-01j,\n",
       "        0.92472487-4.28169418e-01j,  0.91224866-4.22843991e-01j,\n",
       "        0.89957548-4.15885253e-01j,  0.88680596-4.07212598e-01j,\n",
       "        0.87405117-3.96718672e-01j,  0.86142907-3.84264167e-01j,\n",
       "        0.84906133-3.69673503e-01j,  0.83706876-3.52731048e-01j,\n",
       "        0.82556695-3.33178380e-01j,  0.814661  -3.10712393e-01j,\n",
       "        0.80444047-2.84984408e-01j,  0.79497365-2.55600527e-01j,\n",
       "        0.78630191-2.22123004e-01j,  0.77843353-1.84073567e-01j,\n",
       "        0.7713374 -1.40938309e-01j,  0.7649359 -9.21758471e-02j,\n",
       "        0.75909752-3.72287350e-02j,  0.75362818+2.44595635e-02j,\n",
       "        0.748262  +9.34211639e-02j,  0.7426506 +1.70131110e-01j,\n",
       "        0.73635185+2.54963352e-01j,  0.72881753+3.48132871e-01j,\n",
       "        0.7193818 +4.49621135e-01j,  0.70725049+5.59083416e-01j,\n",
       "        0.69149498+6.75736620e-01j,  0.67105204+7.98229357e-01j,\n",
       "        0.64473578+9.24498216e-01j,  0.61126543+1.05161923e+00j,\n",
       "        0.56931733+1.17566940e+00j,  0.51760687+1.29161973e+00j,\n",
       "        0.4550087 +1.39329067e+00j,  0.38071958+1.47340649e+00j,\n",
       "        0.29446532+1.52379351e+00j,  0.19674549+1.53576506e+00j,\n",
       "        0.08909807+1.50073220e+00j, -0.0256472 +1.41105760e+00j,\n",
       "       -0.14317776+1.26113976e+00j, -0.25763491+1.04866369e+00j,\n",
       "       -0.36175983+7.75894996e-01j, -0.44732856+4.50826436e-01j,\n",
       "       -0.50594069+8.79313651e-02j, -0.53017901-2.91749825e-01j,\n",
       "       -0.51508447-6.61436867e-01j, -0.45978623-9.90502729e-01j,\n",
       "       -0.36901431-1.24741129e+00j, -0.25412107-1.40344805e+00j,\n",
       "       -0.1331953 -1.43674249e+00j, -0.02990039-1.33588505e+00j,\n",
       "        0.02915625-1.10237070e+00j,  0.01841822-7.51223371e-01j,\n",
       "       -0.08174689-3.09478929e-01j, -0.280157  +1.87314915e-01j,\n",
       "       -0.5710181 +6.99915414e-01j, -0.93233451+1.19047221e+00j,\n",
       "       -1.32733262+1.62674402e+00j, -1.70909578+1.98455594e+00j,\n",
       "       -2.02782954+2.24816413e+00j, -2.23943146+2.40886995e+00j,\n",
       "       -2.31356767+2.46278498e+00j, -2.23943146+2.40886995e+00j,\n",
       "       -2.02782954+2.24816413e+00j, -1.70909578+1.98455594e+00j,\n",
       "       -1.32733262+1.62674402e+00j, -0.93233452+1.19047221e+00j,\n",
       "       -0.5710181 +6.99915413e-01j, -0.280157  +1.87314916e-01j,\n",
       "       -0.08174689-3.09478930e-01j,  0.01841822-7.51223370e-01j,\n",
       "        0.02915625-1.10237070e+00j, -0.02990039-1.33588505e+00j,\n",
       "       -0.1331953 -1.43674250e+00j, -0.25412107-1.40344805e+00j,\n",
       "       -0.36901431-1.24741129e+00j, -0.45978624-9.90502728e-01j,\n",
       "       -0.51508446-6.61436867e-01j, -0.53017902-2.91749825e-01j,\n",
       "       -0.50594069+8.79313648e-02j, -0.44732856+4.50826436e-01j,\n",
       "       -0.36175983+7.75894995e-01j, -0.25763491+1.04866369e+00j,\n",
       "       -0.14317776+1.26113976e+00j, -0.0256472 +1.41105760e+00j,\n",
       "        0.08909807+1.50073220e+00j,  0.19674549+1.53576506e+00j,\n",
       "        0.29446532+1.52379351e+00j,  0.38071958+1.47340649e+00j,\n",
       "        0.45500869+1.39329067e+00j,  0.51760687+1.29161973e+00j,\n",
       "        0.56931733+1.17566940e+00j,  0.61126543+1.05161923e+00j,\n",
       "        0.64473578+9.24498220e-01j,  0.67105204+7.98229352e-01j,\n",
       "        0.69149498+6.75736625e-01j,  0.70725049+5.59083411e-01j,\n",
       "        0.7193818 +4.49621139e-01j,  0.72881753+3.48132869e-01j,\n",
       "        0.73635186+2.54963353e-01j,  0.7426506 +1.70131110e-01j,\n",
       "        0.74826201+9.34211630e-02j,  0.75362817+2.44595649e-02j,\n",
       "        0.75909752-3.72287368e-02j,  0.7649359 -9.21758452e-02j,\n",
       "        0.7713374 -1.40938311e-01j,  0.77843353-1.84073566e-01j,\n",
       "        0.78630191-2.22123005e-01j,  0.79497365-2.55600528e-01j,\n",
       "        0.80444047-2.84984406e-01j,  0.814661  -3.10712396e-01j,\n",
       "        0.82556695-3.33178375e-01j,  0.83706877-3.52731055e-01j,\n",
       "        0.84906133-3.69673496e-01j,  0.86142907-3.84264174e-01j,\n",
       "        0.87405116-3.96718667e-01j,  0.88680596-4.07212601e-01j,\n",
       "        0.89957548-4.15885252e-01j,  0.91224866-4.22843989e-01j,\n",
       "        0.92472487-4.28169422e-01j,  0.93691557-4.31920755e-01j,\n",
       "        0.94874647-4.34141764e-01j,  0.96015742-4.34866283e-01j,\n",
       "        0.97110299-4.34123962e-01j,  0.98155064-4.31945080e-01j,\n",
       "        0.99147988-4.28365008e-01j,  1.00087906-4.23427634e-01j,\n",
       "        1.0097434 -4.17187795e-01j,  1.01807119-4.09712832e-01j,\n",
       "        1.0258612 -4.01082795e-01j,  1.03310918-3.91389976e-01j,\n",
       "        1.0398053 -3.80737243e-01j,  1.04593174-3.69235812e-01j,\n",
       "        1.05146089-3.57002417e-01j,  1.05635452-3.44155973e-01j,\n",
       "        1.06056333-3.30814403e-01j,  1.06402776-3.17091099e-01j,\n",
       "        1.06667924-3.03092151e-01j,  1.06844232-2.88913513e-01j,\n",
       "        1.06923745-2.74639191e-01j,  1.06898401-2.60339779e-01j,\n",
       "        1.06760397-2.46071911e-01j,  1.06502518-2.31878417e-01j,\n",
       "        1.06118518-2.17789109e-01j,  1.05603398-2.03822342e-01j,\n",
       "        1.04953719-1.89986955e-01j,  1.04167779-1.76284732e-01j,\n",
       "        1.03245793-1.62713076e-01j,  1.02189918-1.49267753e-01j,\n",
       "        1.01004277-1.35945742e-01j,  0.99694832-1.22747687e-01j,\n",
       "        0.98269237-1.09680341e-01j,  0.96736594-9.67582894e-02j,\n",
       "        0.95107173-8.40055084e-02j,  0.933921  -7.14560739e-02j,\n",
       "        0.91602998-5.91545362e-02j,  0.8975167 -4.71554987e-02j,\n",
       "        0.87849748-3.55227284e-02j,  0.85908414-2.43276516e-02j,\n",
       "        0.83938118-1.36473631e-02j,  0.81948386-3.56222870e-03j,\n",
       "        0.79947644+5.84678762e-03j,  0.77943132+1.45011234e-02j,\n",
       "        0.75940841+2.23273519e-02j,  0.73945524+2.92604014e-02j,\n",
       "        0.71960738+3.52457060e-02j,  0.69988938+4.02421579e-02j,\n",
       "        0.68031583+4.42232152e-02j,  0.66089294+4.71790555e-02j,\n",
       "        0.64162   +4.91164834e-02j,  0.6224913 +5.00598547e-02j,\n",
       "        0.60349766+5.00499145e-02j,  0.58462855+4.91433201e-02j,\n",
       "        0.56587331+4.74107270e-02j,  0.54722316+4.49350662e-02j,\n",
       "        0.52867201+4.18092540e-02j,  0.51021791+3.81336433e-02j,\n",
       "        0.49186335+3.40136864e-02j,  0.47361585+2.95570840e-02j,\n",
       "        0.45548774+2.48716237e-02j,  0.43749581+2.00624973e-02j,\n",
       "        0.41966065+1.52304221e-02j,  0.40200561+1.04694580e-02j,\n",
       "        0.38455579+5.86546835e-03j,  0.36733675+1.49460399e-03j,\n",
       "        0.35037341-2.57778523e-03j,  0.33368884-6.29797506e-03j,\n",
       "        0.31730336-9.62430319e-03j,  0.30123358-1.25273627e-02j,\n",
       "        0.28549193-1.49895971e-02j,  0.27008598-1.70049507e-02j,\n",
       "        0.25501858-1.85776158e-02j,  0.24028729-1.97212402e-02j,\n",
       "        0.22588513-2.04570898e-02j,  0.21180023-2.08129524e-02j,\n",
       "        0.19801687-2.08211538e-02j,  0.18451553-2.05173616e-02j,\n",
       "        0.17127396-1.99388375e-02j,  0.1582677 -1.91233874e-02j,\n",
       "        0.14547089-1.81079974e-02j,  0.13285728-1.69281380e-02j,\n",
       "        0.12040066-1.56166996e-02j,  0.10807609-1.42037472e-02j,\n",
       "        0.09585991-1.27156192e-02j,  0.08373091-1.11750932e-02j,\n",
       "        0.07167005-9.60066323e-03j,  0.0596612 -8.00699546e-03j,\n",
       "        0.04769063-6.40456399e-03j,  0.03574733-4.80030483e-03j,\n",
       "        0.02382233-3.19777232e-03j,  0.01190853-1.59796978e-03j,\n",
       "        0.        +0.00000000e+00j])"
      ]
     },
     "execution_count": 10,
     "metadata": {},
     "output_type": "execute_result"
    }
   ],
   "source": [
    "psi_m1[-1]"
   ]
  },
  {
   "cell_type": "markdown",
   "id": "5becf5c5",
   "metadata": {},
   "source": [
    "Plotting for some given $m=10000$ (dimensionless time is $m\\Delta t$Z)"
   ]
  },
  {
   "cell_type": "code",
   "execution_count": 11,
   "id": "9e6f9edb",
   "metadata": {},
   "outputs": [
    {
     "data": {
      "text/plain": [
       "0.9999999997747605"
      ]
     },
     "execution_count": 11,
     "metadata": {},
     "output_type": "execute_result"
    },
    {
     "data": {
      "image/png": "[encoded data removed]",
      "text/plain": [
       "<Figure size 432x288 with 1 Axes>"
      ]
     },
     "metadata": {
      "needs_background": "light"
     },
     "output_type": "display_data"
    }
   ],
   "source": [
    "plt.plot(x, np.absolute(psi_m1[5000])**2)\n",
    "np.sum(np.abs(psi_m1[5000])**2)*dx"
   ]
  },
  {
   "cell_type": "markdown",
   "id": "207d033a",
   "metadata": {},
   "source": [
    "## 2nd tech: \n",
    "First thing to do is solving the stationary shcro and then evolution with eig"
   ]
  },
  {
   "cell_type": "code",
   "execution_count": 12,
   "id": "a461e220",
   "metadata": {},
   "outputs": [],
   "source": [
    "Nx=301\n",
    "dx=1/(Nx-1)\n",
    "x=np.linspace(0,1,Nx)\n",
    "psi_0= np.sqrt(2)*np.sin(np.pi*x)\n",
    "\n",
    "def V(x):\n",
    "    mu, sigma = 1/2, 1/20\n",
    "    return -1e4*np.exp(-(x-mu)**2/(2*(sigma)**2))"
   ]
  },
  {
   "cell_type": "code",
   "execution_count": 13,
   "id": "02e47b03",
   "metadata": {},
   "outputs": [
    {
     "data": {
      "text/plain": [
       "[<matplotlib.lines.Line2D at 0x13fe2a820>]"
      ]
     },
     "execution_count": 13,
     "metadata": {},
     "output_type": "execute_result"
    },
    {
     "data": {
      "image/png": "[encoded data removed]",
      "text/plain": [
       "<Figure size 432x288 with 1 Axes>"
      ]
     },
     "metadata": {
      "needs_background": "light"
     },
     "output_type": "display_data"
    }
   ],
   "source": [
    "d = 1/dx**2 +V(x)[1:-1]\n",
    "e= -1/(2*dx**2) *np.ones(len(d)-1)\n",
    "w, v =eigh_tridiagonal(d,e)\n",
    "plt.plot(x[1:-1],v.T[0]**2)\n",
    "plt.plot(x[1:-1],v.T[4]**2)"
   ]
  },
  {
   "cell_type": "code",
   "execution_count": 14,
   "id": "1aea77b2",
   "metadata": {},
   "outputs": [
    {
     "data": {
      "text/plain": [
       "299"
      ]
     },
     "execution_count": 14,
     "metadata": {},
     "output_type": "execute_result"
    }
   ],
   "source": [
    "len(d)"
   ]
  },
  {
   "cell_type": "code",
   "execution_count": 15,
   "id": "b226ed2e",
   "metadata": {},
   "outputs": [
    {
     "data": {
      "text/plain": [
       "301"
      ]
     },
     "execution_count": 15,
     "metadata": {},
     "output_type": "execute_result"
    }
   ],
   "source": [
    "len(V(x))   #due to the boundaries conditions (2 csntns)"
   ]
  },
  {
   "cell_type": "code",
   "execution_count": 16,
   "id": "660b3fba",
   "metadata": {},
   "outputs": [],
   "source": [
    "E_js=w[0:70]\n",
    "psi_js = np.pad(v.T[0:70], [(0,0),(1,1)], mode='constant') #add 0 and 0 1 time each at the end and the begi\n",
    "cs=np.dot(psi_js,psi0)  #no dx bec they're normalised\n"
   ]
  },
  {
   "cell_type": "code",
   "execution_count": 17,
   "id": "91383544",
   "metadata": {},
   "outputs": [
    {
     "data": {
      "text/plain": [
       "(301, 301)"
      ]
     },
     "execution_count": 17,
     "metadata": {},
     "output_type": "execute_result"
    }
   ],
   "source": [
    "len(psi_js[0]),len(psi0)\n"
   ]
  },
  {
   "cell_type": "code",
   "execution_count": 18,
   "id": "a241080e",
   "metadata": {},
   "outputs": [
    {
     "data": {
      "text/plain": [
       "70"
      ]
     },
     "execution_count": 18,
     "metadata": {},
     "output_type": "execute_result"
    }
   ],
   "source": [
    "len(v.T[0:70])"
   ]
  },
  {
   "cell_type": "code",
   "execution_count": 19,
   "id": "b3f25a93",
   "metadata": {},
   "outputs": [
    {
     "data": {
      "text/plain": [
       "299"
      ]
     },
     "execution_count": 19,
     "metadata": {},
     "output_type": "execute_result"
    }
   ],
   "source": [
    "len(v.T[0:70][0])"
   ]
  },
  {
   "cell_type": "code",
   "execution_count": 20,
   "id": "1ed22314",
   "metadata": {},
   "outputs": [
    {
     "data": {
      "text/plain": [
       "(70,\n",
       " array([ 7.04851271e+00,  3.70220669e-14,  5.53133639e+00, -5.90907914e-14,\n",
       "         5.60518017e+00,  1.71899950e-13,  6.93069456e+00,  1.65672408e-13,\n",
       "         1.13408423e+01,  1.70910789e-11, -3.18243876e+00, -7.58351708e-13,\n",
       "         1.15992241e+00,  1.83063851e-13, -4.04572360e-01, -6.02383880e-13,\n",
       "        -9.94144265e-02, -2.50640233e-13,  1.83001487e-02,  2.03442384e-13,\n",
       "         5.30480440e-02,  9.57854447e-14,  5.26414377e-02,  9.86978449e-14,\n",
       "        -4.03039016e-02, -1.09975761e-13, -2.67317834e-02, -1.56874334e-13,\n",
       "        -1.59433356e-02, -5.98937536e-14, -8.66284571e-03, -3.43108662e-14,\n",
       "         4.28660399e-03, -3.14238366e-14,  1.90371293e-03, -5.13435662e-14,\n",
       "        -7.27225518e-04,  2.06992676e-14, -2.08378131e-04, -3.98487701e-14,\n",
       "        -1.31795383e-05, -1.91573537e-14,  4.04492207e-05,  5.05725877e-14,\n",
       "        -4.17353370e-05,  9.81297857e-15,  2.93394079e-05, -3.43649265e-14,\n",
       "         1.72743016e-05,  4.35058196e-14, -8.98988263e-06,  1.07888888e-14,\n",
       "         4.19364644e-06,  5.16349188e-14, -1.73708535e-06,  8.46089399e-15,\n",
       "        -6.11738452e-07,  8.45944419e-16,  1.56849428e-07,  2.55933187e-14,\n",
       "         3.16372684e-09,  1.17412124e-15, -3.20157511e-08, -5.34743951e-15,\n",
       "        -2.90563180e-08, -1.25604439e-15, -1.86392102e-08, -1.07490810e-14,\n",
       "        -1.00820149e-08,  1.02239173e-14]))"
      ]
     },
     "execution_count": 20,
     "metadata": {},
     "output_type": "execute_result"
    }
   ],
   "source": [
    "len(cs),cs"
   ]
  },
  {
   "cell_type": "code",
   "execution_count": null,
   "id": "74c1e771",
   "metadata": {},
   "outputs": [],
   "source": []
  },
  {
   "cell_type": "code",
   "execution_count": 21,
   "id": "434d3384",
   "metadata": {},
   "outputs": [
    {
     "data": {
      "text/plain": [
       "((70, 301), (70,))"
      ]
     },
     "execution_count": 21,
     "metadata": {},
     "output_type": "execute_result"
    }
   ],
   "source": [
    "def psi_m2(t):\n",
    "    return psi_js.T@(cs*np.exp(-1j*E_js*t))\n",
    "np.shape(psi_js),np.shape(cs)\n"
   ]
  },
  {
   "cell_type": "code",
   "execution_count": 22,
   "id": "8c42432d",
   "metadata": {},
   "outputs": [
    {
     "data": {
      "text/plain": [
       "array([[0.00000000e+00, 1.48093391e-02, 2.96170542e-02, ...,\n",
       "        2.96170542e-02, 1.48093391e-02, 1.73191211e-16],\n",
       "       [0.00000000e+00, 0.00000000e+00, 0.00000000e+00, ...,\n",
       "        0.00000000e+00, 0.00000000e+00, 0.00000000e+00],\n",
       "       [0.00000000e+00, 0.00000000e+00, 0.00000000e+00, ...,\n",
       "        0.00000000e+00, 0.00000000e+00, 0.00000000e+00],\n",
       "       ...,\n",
       "       [0.00000000e+00, 0.00000000e+00, 0.00000000e+00, ...,\n",
       "        0.00000000e+00, 0.00000000e+00, 0.00000000e+00],\n",
       "       [0.00000000e+00, 0.00000000e+00, 0.00000000e+00, ...,\n",
       "        0.00000000e+00, 0.00000000e+00, 0.00000000e+00],\n",
       "       [0.00000000e+00, 0.00000000e+00, 0.00000000e+00, ...,\n",
       "        0.00000000e+00, 0.00000000e+00, 0.00000000e+00]])"
      ]
     },
     "execution_count": 22,
     "metadata": {},
     "output_type": "execute_result"
    },
    {
     "data": {
      "image/png": "[encoded data removed]",
      "text/plain": [
       "<Figure size 720x288 with 1 Axes>"
      ]
     },
     "metadata": {
      "needs_background": "light"
     },
     "output_type": "display_data"
    }
   ],
   "source": [
    "plt.figure(figsize=(10,4))\n",
    "plt.plot(x,psi0**2)\n",
    "plt.plot(x, np.abs(psi_m2(10000*dt))**2)\n",
    "\n",
    "psi"
   ]
  },
  {
   "cell_type": "markdown",
   "id": "ef7b88cb",
   "metadata": {},
   "source": [
    "###  Animation"
   ]
  },
  {
   "cell_type": "code",
   "execution_count": 23,
   "id": "68db93fa",
   "metadata": {},
   "outputs": [
    {
     "data": {
      "image/png": "[encoded data removed]",
      "text/plain": [
       "<Figure size 576x288 with 1 Axes>"
      ]
     },
     "metadata": {
      "needs_background": "light"
     },
     "output_type": "display_data"
    }
   ],
   "source": [
    "def animate(i):\n",
    "    ln1.set_data(x, np.absolute(psi_m1[100*i])**2)\n",
    "    ln2.set_data(x, np.absolute(psi_m2(100*i*dt))**2)\n",
    "    time_text.set_text('$(10^4 mL^2)^{-1}t=$'+'{:.1f}'.format(100*i*dt*1e4))\n",
    "    \n",
    "fig, ax = plt.subplots(1,1, figsize=(8,4))\n",
    "#ax.grid()\n",
    "ln1, = plt.plot([], [], 'r-', lw=2, markersize=8, label='Method 1')\n",
    "ln2, = plt.plot([], [], 'b--', lw=3, markersize=8, label='Method 2')\n",
    "time_text = ax.text(0.65, 16, '', fontsize=15,\n",
    "           bbox=dict(facecolor='white', edgecolor='black'))\n",
    "ax.set_ylim(-1, 20)\n",
    "ax.set_xlim(0,1)\n",
    "ax.set_ylabel('$|\\psi(x)|^2$', fontsize=20)\n",
    "ax.set_xlabel('$x/L$', fontsize=20)\n",
    "ax.legend(loc='upper left')\n",
    "ax.set_title('$(mL^2)V(x) = -10^4 \\cdot n(x, \\mu=L/2, \\sigma=L/20)$')\n",
    "plt.tight_layout()\n",
    "ani = animation.FuncAnimation(fig, animate, frames=1000, interval=50)\n",
    "ani.save('tds.gif',writer='pillow',fps=50,dpi=100)"
   ]
  },
  {
   "cell_type": "code",
   "execution_count": 24,
   "id": "004ea6ad",
   "metadata": {},
   "outputs": [
    {
     "data": {
      "text/plain": [
       "matplotlib.animation.FuncAnimation"
      ]
     },
     "execution_count": 24,
     "metadata": {},
     "output_type": "execute_result"
    }
   ],
   "source": [
    "animation.FuncAnimation"
   ]
  }
 ],
 "metadata": {
  "kernelspec": {
   "display_name": "Python 3 (ipykernel)",
   "language": "python",
   "name": "python3"
  },
  "language_info": {
   "codemirror_mode": {
    "name": "ipython",
    "version": 3
   },
   "file_extension": ".py",
   "mimetype": "text/x-python",
   "name": "python",
   "nbconvert_exporter": "python",
   "pygments_lexer": "ipython3",
   "version": "3.9.15"
  }
 },
 "nbformat": 4,
 "nbformat_minor": 5
}
