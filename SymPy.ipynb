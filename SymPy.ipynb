{
 "cells": [
  {
   "cell_type": "markdown",
   "id": "da4ff9ef-f78e-43d0-a830-43fc36e1a7a2",
   "metadata": {},
   "source": [
    "# SymPy"
   ]
  },
  {
   "cell_type": "code",
   "execution_count": 1,
   "id": "449b8e4e-70b4-43c9-9b45-8201eb26b79d",
   "metadata": {},
   "outputs": [],
   "source": [
    "import sympy as smp\n",
    "import numpy as np\n",
    "import matplotlib.pyplot as plt"
   ]
  },
  {
   "cell_type": "markdown",
   "id": "8e56c748-6235-4888-b04d-c67ec4eec100",
   "metadata": {},
   "source": [
    "### Intro\n",
    "SymPy is a symbolic library\n",
    "How we define symbols?"
   ]
  },
  {
   "cell_type": "code",
   "execution_count": 2,
   "id": "20a2de9f-a427-4c8c-852f-fbb846d2fec7",
   "metadata": {},
   "outputs": [],
   "source": [
    "x= smp.symbols('x')"
   ]
  },
  {
   "cell_type": "code",
   "execution_count": 3,
   "id": "abc40fe2-0b7b-40c3-8197-92e5b3a11296",
   "metadata": {},
   "outputs": [],
   "source": [
    "y=smp.sin(x**2)"
   ]
  },
  {
   "cell_type": "code",
   "execution_count": 4,
   "id": "35eacd09-64d6-4c9b-a26d-d413033e73ea",
   "metadata": {},
   "outputs": [
    {
     "data": {
      "text/latex": [
       "$\\displaystyle - x^{2} + \\sin{\\left(x^{2} \\right)}$"
      ],
      "text/plain": [
       "-x**2 + sin(x**2)"
      ]
     },
     "execution_count": 4,
     "metadata": {},
     "output_type": "execute_result"
    }
   ],
   "source": [
    "z=y-x**2\n",
    "z"
   ]
  },
  {
   "cell_type": "markdown",
   "id": "9d28c9c5-7f75-40e3-9462-a4e32de4bf6f",
   "metadata": {},
   "source": [
    "smp.? to give a look at the functions that sympy can do"
   ]
  },
  {
   "cell_type": "markdown",
   "id": "e4ecb2d6-e1af-45dc-a6e4-858d388630e1",
   "metadata": {},
   "source": [
    "You can save expression in new variables"
   ]
  },
  {
   "cell_type": "code",
   "execution_count": 5,
   "id": "8f5a0160-4c7c-4a3c-abdd-c8ab725ea4a4",
   "metadata": {},
   "outputs": [],
   "source": [
    "y= x**2+ 4*x + 3"
   ]
  },
  {
   "cell_type": "code",
   "execution_count": 6,
   "id": "37e0d0fe-9c31-4e28-94f6-4eddde253f55",
   "metadata": {},
   "outputs": [
    {
     "data": {
      "text/latex": [
       "$\\displaystyle x^{2} + 4 x + 3$"
      ],
      "text/plain": [
       "x**2 + 4*x + 3"
      ]
     },
     "execution_count": 6,
     "metadata": {},
     "output_type": "execute_result"
    }
   ],
   "source": [
    "y"
   ]
  },
  {
   "cell_type": "markdown",
   "id": "d65f211e-770d-461e-9d7e-6b7e6128c7df",
   "metadata": {},
   "source": [
    "Do operations on the new variables:"
   ]
  },
  {
   "cell_type": "code",
   "execution_count": 7,
   "id": "ec5e4e6d-4262-46fc-8703-f4492285bb8f",
   "metadata": {},
   "outputs": [
    {
     "data": {
      "text/latex": [
       "$\\displaystyle \\left(x^{2} + 4 x + 3\\right)^{2}$"
      ],
      "text/plain": [
       "(x**2 + 4*x + 3)**2"
      ]
     },
     "execution_count": 7,
     "metadata": {},
     "output_type": "execute_result"
    }
   ],
   "source": [
    "z= y**2\n",
    "z"
   ]
  },
  {
   "cell_type": "markdown",
   "id": "c4efa3e2-d893-4ea3-9d40-4a56745aed59",
   "metadata": {},
   "source": [
    "It's not expanded"
   ]
  },
  {
   "cell_type": "code",
   "execution_count": 8,
   "id": "01483d90-5b89-46a3-a198-07593cbfdf33",
   "metadata": {},
   "outputs": [
    {
     "data": {
      "text/latex": [
       "$\\displaystyle \\left(x + 1\\right)^{2} \\left(x + 3\\right)^{2}$"
      ],
      "text/plain": [
       "(x + 1)**2*(x + 3)**2"
      ]
     },
     "execution_count": 8,
     "metadata": {},
     "output_type": "execute_result"
    }
   ],
   "source": [
    "z.factor()"
   ]
  },
  {
   "cell_type": "code",
   "execution_count": 9,
   "id": "651e4257-f732-44e8-b6f5-20faa6c660b5",
   "metadata": {},
   "outputs": [
    {
     "data": {
      "text/latex": [
       "$\\displaystyle x^{4} + 8 x^{3} + 22 x^{2} + 24 x + 9$"
      ],
      "text/plain": [
       "x**4 + 8*x**3 + 22*x**2 + 24*x + 9"
      ]
     },
     "execution_count": 9,
     "metadata": {},
     "output_type": "execute_result"
    }
   ],
   "source": [
    "z.expand()"
   ]
  },
  {
   "cell_type": "markdown",
   "id": "7318697b-df53-44e9-8af3-d38dbaa57aa0",
   "metadata": {},
   "source": [
    "In the notation smp.solve(f,x) finds the value of $x$ that maxes $f(x)=0$"
   ]
  },
  {
   "cell_type": "code",
   "execution_count": 10,
   "id": "240290fe-7257-4b9e-b812-60a2f5c05886",
   "metadata": {},
   "outputs": [
    {
     "data": {
      "text/plain": [
       "[-3, -1]"
      ]
     },
     "execution_count": 10,
     "metadata": {},
     "output_type": "execute_result"
    }
   ],
   "source": [
    "smp.solve(z,x)"
   ]
  },
  {
   "cell_type": "markdown",
   "id": "26189de1-e05f-447b-8f35-d470e3746e3e",
   "metadata": {},
   "source": [
    "**Good Practice**: If you know that your variable $x$ is real (and in some cases non-negative) it's good to specify this when you define your variables to prevent complicated issues when solving complicated problems (especially with integrals)."
   ]
  },
  {
   "cell_type": "code",
   "execution_count": 11,
   "id": "317e3752-0a88-430a-98de-bd5356b6722f",
   "metadata": {},
   "outputs": [
    {
     "data": {
      "text/plain": [
       "[-I, I]"
      ]
     },
     "execution_count": 11,
     "metadata": {},
     "output_type": "execute_result"
    }
   ],
   "source": [
    "x=smp.symbols('x')\n",
    "smp.solve(x**2+1,x)"
   ]
  },
  {
   "cell_type": "code",
   "execution_count": 12,
   "id": "077f296b-5cee-41c0-9a70-f6119e1f9c7a",
   "metadata": {},
   "outputs": [
    {
     "data": {
      "text/plain": [
       "[]"
      ]
     },
     "execution_count": 12,
     "metadata": {},
     "output_type": "execute_result"
    }
   ],
   "source": [
    "x=smp.symbols('x', real=True)\n",
    "smp.solve(x**2+1,x)"
   ]
  },
  {
   "cell_type": "markdown",
   "id": "9ccfa4e2-fed9-4b19-93cd-2b54d6393078",
   "metadata": {},
   "source": [
    "Declaring many variables at once "
   ]
  },
  {
   "cell_type": "code",
   "execution_count": 13,
   "id": "607ec637-cbad-4fd4-81a3-0b143241edde",
   "metadata": {},
   "outputs": [
    {
     "data": {
      "text/latex": [
       "$\\displaystyle x^{2} + y \\sin{\\left(z \\right)}$"
      ],
      "text/plain": [
       "x**2 + y*sin(z)"
      ]
     },
     "execution_count": 13,
     "metadata": {},
     "output_type": "execute_result"
    }
   ],
   "source": [
    "x,y,z = smp.symbols('x y z')\n",
    "F = x**2+smp.sin(z)*y\n",
    "F"
   ]
  },
  {
   "cell_type": "markdown",
   "id": "6f13bbd3-b783-4a37-9246-9fdcd2afbd05",
   "metadata": {},
   "source": [
    "Can also solve multivariable expressions, specifying which variable we are solving for. In each case $F=0$ is being solved for"
   ]
  },
  {
   "cell_type": "code",
   "execution_count": 14,
   "id": "3762610e-7503-462c-a05b-52b57273ca09",
   "metadata": {},
   "outputs": [
    {
     "data": {
      "text/plain": [
       "[-sqrt(-y*sin(z)), sqrt(-y*sin(z))]"
      ]
     },
     "execution_count": 14,
     "metadata": {},
     "output_type": "execute_result"
    }
   ],
   "source": [
    "x_sols =smp.solve(F,x)\n",
    "x_sols"
   ]
  },
  {
   "cell_type": "code",
   "execution_count": 15,
   "id": "50b50800-b2cf-4caa-b058-12e574cf57eb",
   "metadata": {},
   "outputs": [
    {
     "data": {
      "text/plain": [
       "[asin(x**2/y) + pi, -asin(x**2/y)]"
      ]
     },
     "execution_count": 15,
     "metadata": {},
     "output_type": "execute_result"
    }
   ],
   "source": [
    "y_sols= smp.solve(F,y)\n",
    "z_sols=smp.solve(F,z)\n",
    "z_sols"
   ]
  },
  {
   "cell_type": "markdown",
   "id": "a681b9c1-6f57-435f-8692-5f424a451ce8",
   "metadata": {},
   "source": [
    "Finally, it may be the caser that one has a sympy expressio but want to convert to a numerical function so they can plot."
   ]
  },
  {
   "cell_type": "code",
   "execution_count": 16,
   "id": "189bc0f5-6587-493e-b98a-48cc17b0345a",
   "metadata": {},
   "outputs": [
    {
     "data": {
      "text/latex": [
       "$\\displaystyle \\operatorname{asin}{\\left(\\frac{x^{2}}{y} \\right)} + \\pi$"
      ],
      "text/plain": [
       "asin(x**2/y) + pi"
      ]
     },
     "execution_count": 16,
     "metadata": {},
     "output_type": "execute_result"
    }
   ],
   "source": [
    "expr= z_sols[0]   #its an array\n",
    "expr"
   ]
  },
  {
   "cell_type": "code",
   "execution_count": 17,
   "id": "207c25a0-2f76-436c-a0ec-7e80b3cfd053",
   "metadata": {},
   "outputs": [
    {
     "data": {
      "text/plain": [
       "3.665191429188092"
      ]
     },
     "execution_count": 17,
     "metadata": {},
     "output_type": "execute_result"
    }
   ],
   "source": [
    "expr_f=smp.lambdify([x,y],expr) #Pass the symbols in the expression\n",
    "expr_f(1,2)"
   ]
  },
  {
   "cell_type": "code",
   "execution_count": 18,
   "id": "853672ce-2ab9-484b-a334-37d08d48e9ac",
   "metadata": {},
   "outputs": [
    {
     "data": {
      "text/plain": [
       "[<matplotlib.lines.Line2D at 0x137d830d0>]"
      ]
     },
     "execution_count": 18,
     "metadata": {},
     "output_type": "execute_result"
    },
    {
     "data": {
      "image/png": "[encoded data removed]",
      "text/plain": [
       "<Figure size 432x288 with 1 Axes>"
      ]
     },
     "metadata": {
      "needs_background": "light"
     },
     "output_type": "display_data"
    }
   ],
   "source": [
    "x_num = np.linspace(0,1,100)\n",
    "y_num=2\n",
    "plt.plot(x_num,expr_f(x_num,y_num))"
   ]
  },
  {
   "cell_type": "markdown",
   "id": "063a0d55-6f3b-4a7b-8f64-a0d7fc386a15",
   "metadata": {},
   "source": [
    "For multivariable expressions can also substitute values in"
   ]
  },
  {
   "cell_type": "code",
   "execution_count": 19,
   "id": "74340b4b-886d-45b4-b3e3-2c51cc3ea534",
   "metadata": {},
   "outputs": [
    {
     "data": {
      "text/latex": [
       "$\\displaystyle x^{2} + y \\sin{\\left(z \\right)}$"
      ],
      "text/plain": [
       "x**2 + y*sin(z)"
      ]
     },
     "execution_count": 19,
     "metadata": {},
     "output_type": "execute_result"
    }
   ],
   "source": [
    "F"
   ]
  },
  {
   "cell_type": "code",
   "execution_count": 20,
   "id": "9b6169d0-f83f-4aea-b35e-828e34163815",
   "metadata": {},
   "outputs": [
    {
     "data": {
      "text/latex": [
       "$\\displaystyle x^{2} + 3$"
      ],
      "text/plain": [
       "x**2 + 3"
      ]
     },
     "execution_count": 20,
     "metadata": {},
     "output_type": "execute_result"
    }
   ],
   "source": [
    "F.subs([(y,3),(z,smp.pi/2)])   #does the substitution in the order you decide "
   ]
  },
  {
   "cell_type": "code",
   "execution_count": 21,
   "id": "a323c13f-e117-405e-af9a-96b0df322aba",
   "metadata": {},
   "outputs": [
    {
     "data": {
      "text/latex": [
       "$\\displaystyle y \\sin{\\left(z \\right)} + \\cos^{2}{\\left(z \\right)}$"
      ],
      "text/plain": [
       "y*sin(z) + cos(z)**2"
      ]
     },
     "execution_count": 21,
     "metadata": {},
     "output_type": "execute_result"
    }
   ],
   "source": [
    "F.subs([(x,smp.cos(z))])"
   ]
  },
  {
   "cell_type": "code",
   "execution_count": 22,
   "id": "d73a0486-6cab-483b-9391-510224e70db1",
   "metadata": {},
   "outputs": [
    {
     "data": {
      "text/latex": [
       "$\\displaystyle x^{2} + y \\sin{\\left(z \\right)}$"
      ],
      "text/plain": [
       "x**2 + y*sin(z)"
      ]
     },
     "execution_count": 22,
     "metadata": {},
     "output_type": "execute_result"
    }
   ],
   "source": [
    "F"
   ]
  },
  {
   "cell_type": "markdown",
   "id": "439bdfb8-28ac-4e6a-b7c8-db7a0ead5c14",
   "metadata": {},
   "source": [
    "### Examples "
   ]
  },
  {
   "cell_type": "markdown",
   "id": "9795cce8-6e7f-4bae-ad00-e9963a077418",
   "metadata": {
    "tags": []
   },
   "source": [
    "A falling object encounters a moving platform accelerating upwards:\n",
    "\n",
    "1. Object $h_o(t) = h_0 - v_o t - \\frac{1}{2}gt^2$\n",
    "2. Platform $h_p(t) = v_p t + \\frac{1}{2}qt^2$\n",
    "\n",
    "**Find the initial velocity $v_0$ such that when the object and platform collide, they are moving at the same speed.**\n",
    "\n",
    "We need to solve for $v_0$ and $t$ in the two equations\n",
    "\n",
    "1. $h_0(t) = h_p(t)$\n",
    "2. $ \\frac{dh_0}{dt} (t) = - \\frac{dh_p}{dt}(t) $\n",
    "\n",
    "In sympy, need to construct our system of equations as $EQ_1=0$, $EQ_2=0$, ... In our case, we rewrite them as\n",
    "\n",
    "1. $h_0(t) - h_p(t) = 0$\n",
    "2. $\\frac{dh_0}{dt} + \\frac{dh_p}{dt} = 0$"
   ]
  },
  {
   "cell_type": "code",
   "execution_count": 23,
   "id": "84e0d45b-205d-4cbd-838b-11a8439e0564",
   "metadata": {},
   "outputs": [],
   "source": [
    "t, h0, v0, g, vp, q = smp.symbols('t h_0 v_0 g v_p q', real=True, positive=True)\n",
    "#expressions\n",
    "h0t = h0 -v0*t - smp.Rational(1/2) *g*t**2\n",
    "dh0dt = -v0+ g*t\n",
    "hpt= vp*t +smp.Rational(1/2)*q*t**2\n",
    "dhpdt = vp + q*t\n",
    "#equations\n",
    "eq1=h0t-hpt\n",
    "eq2=dh0dt + dhpdt"
   ]
  },
  {
   "cell_type": "code",
   "execution_count": 24,
   "id": "142ed529-ea6d-400a-95f4-743a4b940304",
   "metadata": {},
   "outputs": [],
   "source": [
    "t_collide, v_initfall = smp.solve([eq1,eq2], [t,v0])[0]"
   ]
  },
  {
   "cell_type": "code",
   "execution_count": 25,
   "id": "17d102fd-b868-494c-a071-85707351700f",
   "metadata": {},
   "outputs": [
    {
     "data": {
      "text/latex": [
       "$\\displaystyle \\frac{v_{p}}{3} + \\frac{\\sqrt{2} \\sqrt{3 g h_{0} + 3 h_{0} q + 2 v_{p}^{2}}}{3}$"
      ],
      "text/plain": [
       "v_p/3 + sqrt(2)*sqrt(3*g*h_0 + 3*h_0*q + 2*v_p**2)/3"
      ]
     },
     "execution_count": 25,
     "metadata": {},
     "output_type": "execute_result"
    }
   ],
   "source": [
    "v_initfall"
   ]
  },
  {
   "cell_type": "markdown",
   "id": "e21d0037-ad8e-4411-9172-b52087f230eb",
   "metadata": {},
   "source": [
    "**What is the velocity when they collide**"
   ]
  },
  {
   "cell_type": "code",
   "execution_count": 26,
   "id": "eb4b9688-f00c-4da1-827f-426e09202ae8",
   "metadata": {},
   "outputs": [
    {
     "data": {
      "text/latex": [
       "$\\displaystyle - \\frac{g v_{p} + \\frac{q v_{p}}{3} + \\frac{q \\sqrt{6 g h_{0} + 6 h_{0} q + 4 v_{p}^{2}}}{3}}{g + q}$"
      ],
      "text/plain": [
       "-(g*v_p + q*v_p/3 + q*sqrt(6*g*h_0 + 6*h_0*q + 4*v_p**2)/3)/(g + q)"
      ]
     },
     "execution_count": 26,
     "metadata": {},
     "output_type": "execute_result"
    }
   ],
   "source": [
    "dh0dt.subs([(t,t_collide),(v0,v_initfall)]).simplify()"
   ]
  },
  {
   "cell_type": "code",
   "execution_count": 27,
   "id": "f9a79d3b-d33e-4aea-bb80-bd7c371240b2",
   "metadata": {},
   "outputs": [
    {
     "data": {
      "text/latex": [
       "$\\displaystyle \\frac{g v_{p} + \\frac{q v_{p}}{3} + \\frac{q \\sqrt{6 g h_{0} + 6 h_{0} q + 4 v_{p}^{2}}}{3}}{g + q}$"
      ],
      "text/plain": [
       "(g*v_p + q*v_p/3 + q*sqrt(6*g*h_0 + 6*h_0*q + 4*v_p**2)/3)/(g + q)"
      ]
     },
     "execution_count": 27,
     "metadata": {},
     "output_type": "execute_result"
    }
   ],
   "source": [
    "dhpdt.subs([(t,t_collide),(v0,v_initfall)]).simplify()"
   ]
  },
  {
   "cell_type": "markdown",
   "id": "424785e9-9435-41eb-b0ef-c467d99ab8f9",
   "metadata": {},
   "source": [
    "### Calculus 1 "
   ]
  },
  {
   "cell_type": "markdown",
   "id": "b4af0e34-d48d-4d52-b47d-2b15998fa1d0",
   "metadata": {},
   "source": [
    "#### Limits "
   ]
  },
  {
   "cell_type": "code",
   "execution_count": 28,
   "id": "f0e84186-c260-49d6-a68a-2f969085b7c9",
   "metadata": {},
   "outputs": [],
   "source": [
    "x = smp.symbols(' x ')"
   ]
  },
  {
   "cell_type": "code",
   "execution_count": 29,
   "id": "2f20a422-0312-42ca-988f-b3494a99fdbb",
   "metadata": {},
   "outputs": [
    {
     "data": {
      "text/latex": [
       "$\\displaystyle 1$"
      ],
      "text/plain": [
       "1"
      ]
     },
     "execution_count": 29,
     "metadata": {},
     "output_type": "execute_result"
    }
   ],
   "source": [
    "smp.limit(smp.sin(x/2+smp.sin(x)),x,smp.pi)"
   ]
  },
  {
   "cell_type": "markdown",
   "id": "a97788f4-7e97-49b1-94d3-ede873fc4593",
   "metadata": {},
   "source": [
    "#### Derivatives "
   ]
  },
  {
   "cell_type": "code",
   "execution_count": 30,
   "id": "ceedef5b-3743-443f-a73f-8b2246bc44a3",
   "metadata": {},
   "outputs": [
    {
     "data": {
      "text/latex": [
       "$\\displaystyle \\frac{2 \\left(\\sin{\\left(x \\right)} + 1\\right) \\cos{\\left(x \\right)}}{\\left(1 - \\cos{\\left(x \\right)}\\right)^{2}} - \\frac{2 \\left(\\sin{\\left(x \\right)} + 1\\right)^{2} \\sin{\\left(x \\right)}}{\\left(1 - \\cos{\\left(x \\right)}\\right)^{3}}$"
      ],
      "text/plain": [
       "2*(sin(x) + 1)*cos(x)/(1 - cos(x))**2 - 2*(sin(x) + 1)**2*sin(x)/(1 - cos(x))**3"
      ]
     },
     "execution_count": 30,
     "metadata": {},
     "output_type": "execute_result"
    }
   ],
   "source": [
    "smp.diff(((1 + smp.sin(x))/(1 - smp.cos(x)))**2,x) #respect to x"
   ]
  },
  {
   "cell_type": "code",
   "execution_count": 31,
   "id": "f21b5c6e-6c62-459f-b0ee-a0023e5094d9",
   "metadata": {},
   "outputs": [
    {
     "data": {
      "text/latex": [
       "$\\displaystyle f{\\left(x + g{\\left(x \\right)} \\right)}$"
      ],
      "text/plain": [
       "f(x + g(x))"
      ]
     },
     "execution_count": 31,
     "metadata": {},
     "output_type": "execute_result"
    }
   ],
   "source": [
    "#also with generic functions\n",
    "f, g= smp.symbols('f g', cls=smp.Function)\n",
    "g=g(x)\n",
    "f=f(x+g)\n",
    "f"
   ]
  },
  {
   "cell_type": "code",
   "execution_count": 32,
   "id": "de6503f5-d025-4101-859f-01defc8763f2",
   "metadata": {},
   "outputs": [
    {
     "data": {
      "text/latex": [
       "$\\displaystyle \\left(\\frac{d}{d x} g{\\left(x \\right)} + 1\\right) \\left. \\frac{d}{d \\xi_{1}} f{\\left(\\xi_{1} \\right)} \\right|_{\\substack{ \\xi_{1}=x + g{\\left(x \\right)} }}$"
      ],
      "text/plain": [
       "(Derivative(g(x), x) + 1)*Subs(Derivative(f(_xi_1), _xi_1), _xi_1, x + g(x))"
      ]
     },
     "execution_count": 32,
     "metadata": {},
     "output_type": "execute_result"
    }
   ],
   "source": [
    "dfdx=smp.diff(f,x)\n",
    "dfdx"
   ]
  },
  {
   "cell_type": "code",
   "execution_count": 33,
   "id": "e4056176-14a8-4982-85f3-6a29e6868316",
   "metadata": {},
   "outputs": [
    {
     "data": {
      "text/latex": [
       "$\\displaystyle \\left(\\cos{\\left(x \\right)} + 1\\right) \\left. \\frac{d}{d \\xi_{1}} f{\\left(\\xi_{1} \\right)} \\right|_{\\substack{ \\xi_{1}=x + \\sin{\\left(x \\right)} }}$"
      ],
      "text/plain": [
       "(cos(x) + 1)*Subs(Derivative(f(_xi_1), _xi_1), _xi_1, x + sin(x))"
      ]
     },
     "execution_count": 33,
     "metadata": {},
     "output_type": "execute_result"
    }
   ],
   "source": [
    "dfdx.subs([(g, smp.sin(x))]).doit() #without doit it will subs sin(x) but it won't calculate explicitly the derivative"
   ]
  },
  {
   "cell_type": "markdown",
   "id": "52184ef9-221d-432f-adbe-164e8b2126cd",
   "metadata": {},
   "source": [
    "#### Basic Antiderivatives "
   ]
  },
  {
   "cell_type": "code",
   "execution_count": 34,
   "id": "58a56901-da0a-45ae-a3e8-d09b27ea5051",
   "metadata": {},
   "outputs": [
    {
     "data": {
      "text/latex": [
       "$\\displaystyle - \\frac{1}{\\sin{\\left(x \\right)}}$"
      ],
      "text/plain": [
       "-1/sin(x)"
      ]
     },
     "execution_count": 34,
     "metadata": {},
     "output_type": "execute_result"
    }
   ],
   "source": [
    "smp.integrate(smp.csc(x)*smp.cot(x),x)  #no plus c"
   ]
  },
  {
   "cell_type": "code",
   "execution_count": 35,
   "id": "929c04d8-8266-4156-ac3d-e17fa623973c",
   "metadata": {},
   "outputs": [
    {
     "data": {
      "text/latex": [
       "$\\displaystyle - \\operatorname{asinh}{\\left(\\frac{1}{3} \\right)} + \\operatorname{asinh}{\\left(3 \\right)}$"
      ],
      "text/plain": [
       "-asinh(1/3) + asinh(3)"
      ]
     },
     "execution_count": 35,
     "metadata": {},
     "output_type": "execute_result"
    }
   ],
   "source": [
    "smp.integrate(smp.exp(x)/ smp.sqrt(smp.exp(2*x)+9),(x, 0, smp.log(9)))"
   ]
  },
  {
   "cell_type": "code",
   "execution_count": 36,
   "id": "7e32199f-508c-4dfa-abef-8883785cf683",
   "metadata": {},
   "outputs": [
    {
     "data": {
      "text/latex": [
       "$\\displaystyle \\left(t^{10} - 10 t^{9} + 90 t^{8} - 720 t^{7} + 5040 t^{6} - 30240 t^{5} + 151200 t^{4} - 604800 t^{3} + 1814400 t^{2} - 3628800 t + 3628800\\right) e^{t} - 1334961 e$"
      ],
      "text/plain": [
       "(t**10 - 10*t**9 + 90*t**8 - 720*t**7 + 5040*t**6 - 30240*t**5 + 151200*t**4 - 604800*t**3 + 1814400*t**2 - 3628800*t + 3628800)*exp(t) - 1334961*E"
      ]
     },
     "execution_count": 36,
     "metadata": {},
     "output_type": "execute_result"
    }
   ],
   "source": [
    "t = smp.symbols('t')\n",
    "smp.integrate(x**10*smp.exp(x),(x, 1, t))"
   ]
  },
  {
   "cell_type": "markdown",
   "id": "e8f5cbfa-767a-4cfe-ad9c-b7d2f7df2eae",
   "metadata": {},
   "source": [
    "### Examples "
   ]
  },
  {
   "cell_type": "markdown",
   "id": "16c641cc-74bd-4847-bb4d-7b14fdd4837f",
   "metadata": {
    "tags": []
   },
   "source": [
    "The hydrogen wave function is given by\n",
    "\n",
    "$$\\psi_{nlm} = R_{nl}(r)Y_l^m(\\theta, \\phi) $$\n",
    "\n",
    "$$R_{nl}(r) =  \\sqrt{\\left(\\frac{2}{na}\\right)^3 \\frac{(n-l-1)!}{2n[(n+1)!]}} e^{-r/na} \\left(\\frac{2r}{na}\\right)^l \\left[L_{n-l-1}^{2l+1}(2r/na)\\right]$$\n",
    "\n",
    "The mean distance from the nucleus of the electron:\n",
    "\n",
    "$$\\left<r\\right> = \\int R_{nl}^2 r^3 dr$$\n",
    "\n",
    "The standard deviation in the distance from the nucleus of the electron:\n",
    "\n",
    "$$\\sigma = \\sqrt{\\left<r^2\\right> - \\left<r\\right>^2} =  \\sqrt{\\left(\\int_{0}^{\\infty}R_{nl}^2 r^4 dr\\right) - \\left(\\int_{0}^{\\infty} R_{nl}^2 r^3 dr\\right)^2}$$"
   ]
  },
  {
   "cell_type": "code",
   "execution_count": 37,
   "id": "3d3b624d-4ed6-4cb8-84c6-06f2ab832775",
   "metadata": {},
   "outputs": [],
   "source": [
    "from sympy import assoc_laguerre"
   ]
  },
  {
   "cell_type": "code",
   "execution_count": 38,
   "id": "6d773bc6-946a-4a27-94da-16e79cd525b1",
   "metadata": {},
   "outputs": [],
   "source": [
    "r, a = smp.symbols('r a', real=True, positive= True)\n",
    "n, l=smp.symbols('n l', integer=True, positive=True)"
   ]
  },
  {
   "cell_type": "code",
   "execution_count": 39,
   "id": "29c77e15-8e39-46dc-9d92-07309d48ea83",
   "metadata": {},
   "outputs": [
    {
     "data": {
      "text/latex": [
       "$\\displaystyle \\frac{2 \\left(\\frac{2 r}{a n}\\right)^{l} e^{- \\frac{r}{a n}} L_{- l + n - 1}^{\\left(2 l + 1\\right)}\\left(\\frac{2 r}{a n}\\right) \\sqrt{\\left(- l + n - 1\\right)!}}{a^{\\frac{3}{2}} n^{2} \\sqrt{\\left(l + n\\right)!}}$"
      ],
      "text/plain": [
       "2*(2*r/(a*n))**l*exp(-r/(a*n))*assoc_laguerre(-l + n - 1, 2*l + 1, 2*r/(a*n))*sqrt(factorial(-l + n - 1))/(a**(3/2)*n**2*sqrt(factorial(l + n)))"
      ]
     },
     "execution_count": 39,
     "metadata": {},
     "output_type": "execute_result"
    }
   ],
   "source": [
    "R = smp.sqrt((2/(n*a))**3 * smp.factorial(n-l-1)/(2*n*(smp.factorial(n+l)))) \\\n",
    "     *smp.exp(-r/(n*a)) * (2*r/(n*a))**l * assoc_laguerre(n-l-1,2*l+1,(2*r/(n*a)))\n",
    "R"
   ]
  },
  {
   "cell_type": "markdown",
   "id": "17c6549a-b412-412b-9e6d-3dc5a632d56c",
   "metadata": {},
   "source": [
    "I wanna check to make sure this corresponds to the radial wavefunctions.\n",
    "For the ground state $\\longrightarrow R_{1,0}(r)$... let's see"
   ]
  },
  {
   "cell_type": "code",
   "execution_count": 40,
   "id": "1905a1ac-e5e4-4f2d-bbe6-d1f3d7e25130",
   "metadata": {},
   "outputs": [
    {
     "data": {
      "text/latex": [
       "$\\displaystyle \\frac{2 e^{- \\frac{r}{a}}}{a^{\\frac{3}{2}}}$"
      ],
      "text/plain": [
       "2*exp(-r/a)/a**(3/2)"
      ]
     },
     "execution_count": 40,
     "metadata": {},
     "output_type": "execute_result"
    }
   ],
   "source": [
    "R_10 = R.subs([(n,1),(l,0)])\n",
    "R_10"
   ]
  },
  {
   "cell_type": "markdown",
   "id": "39a9420a-cb1c-4ff9-ac7e-efce230c5fed",
   "metadata": {},
   "source": [
    "$\\int^\\infty_0 R^2_{n,l}r^k dr$ for $n$,$l$,$k$ generic"
   ]
  },
  {
   "cell_type": "code",
   "execution_count": 41,
   "id": "fcd1be99-8cd1-4299-a1df-0e7a6954a6f7",
   "metadata": {},
   "outputs": [],
   "source": [
    "def compute_int(n_val, l_val, k):\n",
    "    R_nl = R.subs([(n,n_val),(l,l_val)])\n",
    "    return smp.integrate(R_nl**2 * r**k, (r,0,smp.oo))"
   ]
  },
  {
   "cell_type": "code",
   "execution_count": 42,
   "id": "c7ceb6a9-7efa-4a11-9513-eed58c9f17ec",
   "metadata": {},
   "outputs": [
    {
     "data": {
      "text/latex": [
       "$\\displaystyle \\frac{3 a}{2}$"
      ],
      "text/plain": [
       "3*a/2"
      ]
     },
     "execution_count": 42,
     "metadata": {},
     "output_type": "execute_result"
    }
   ],
   "source": [
    "compute_int(1,0,3)"
   ]
  },
  {
   "cell_type": "code",
   "execution_count": 43,
   "id": "39563899-4c4d-48a9-9b49-afbaa0bc0764",
   "metadata": {},
   "outputs": [
    {
     "data": {
      "text/latex": [
       "$\\displaystyle \\frac{\\sqrt{3} a}{2}$"
      ],
      "text/plain": [
       "sqrt(3)*a/2"
      ]
     },
     "execution_count": 43,
     "metadata": {},
     "output_type": "execute_result"
    }
   ],
   "source": [
    "smp.sqrt(compute_int(1,0,4)- compute_int(1,0,3)**2)"
   ]
  },
  {
   "cell_type": "code",
   "execution_count": 44,
   "id": "a911a9db-9b54-42ee-8b65-e0bf3bfa7c08",
   "metadata": {},
   "outputs": [],
   "source": [
    "def compute_mean_distance(n_val, l_val=0):\n",
    "    expr = compute_int(n_val,l_val,k=3)\n",
    "    expr_f = smp.lambdify([a], expr)\n",
    "    return expr_f(1)"
   ]
  },
  {
   "cell_type": "code",
   "execution_count": 45,
   "id": "5ba8c885-dcec-4c8c-956a-2d75353ccb5c",
   "metadata": {},
   "outputs": [
    {
     "data": {
      "text/plain": [
       "<matplotlib.collections.PathCollection at 0x145b04790>"
      ]
     },
     "execution_count": 45,
     "metadata": {},
     "output_type": "execute_result"
    },
    {
     "data": {
      "image/png": "[encoded data removed]",
      "text/plain": [
       "<Figure size 432x288 with 1 Axes>"
      ]
     },
     "metadata": {
      "needs_background": "light"
     },
     "output_type": "display_data"
    }
   ],
   "source": [
    "ns = np.arange(1,10)\n",
    "ds = [compute_mean_distance(ni) for ni in ns]\n",
    "plt.scatter(ns, ds)"
   ]
  },
  {
   "cell_type": "markdown",
   "id": "c25f9af7-c4c1-4194-a68d-c8d3f08059d3",
   "metadata": {},
   "source": [
    "### Multivariable calculus\n"
   ]
  },
  {
   "cell_type": "code",
   "execution_count": 46,
   "id": "468ca2cb-56c0-4b13-8c06-32503ac353ae",
   "metadata": {},
   "outputs": [],
   "source": [
    "x, y, z, u1, u2, u3, v1, v2, v3, t = smp.symbols('x y z u_1 u_2 u_3 v_1 v_2 v_3 t')"
   ]
  },
  {
   "cell_type": "code",
   "execution_count": 49,
   "id": "4f2031e2-f1e0-4a5b-be8e-56e6b9cabcdc",
   "metadata": {},
   "outputs": [
    {
     "data": {
      "text/latex": [
       "$\\displaystyle \\left[\\begin{matrix}u_{1}\\\\u_{2}\\\\u_{3}\\end{matrix}\\right]$"
      ],
      "text/plain": [
       "Matrix([\n",
       "[u_1],\n",
       "[u_2],\n",
       "[u_3]])"
      ]
     },
     "execution_count": 49,
     "metadata": {},
     "output_type": "execute_result"
    }
   ],
   "source": [
    "u = smp.Matrix([u1,u2,u3])\n",
    "v = smp.Matrix([v1,v2,v3])\n",
    "u"
   ]
  },
  {
   "cell_type": "code",
   "execution_count": 50,
   "id": "d72efc85-566a-4e61-9fbb-92f0aa957450",
   "metadata": {},
   "outputs": [
    {
     "data": {
      "text/latex": [
       "$\\displaystyle \\left[\\begin{matrix}2 u_{1} + v_{1}\\\\2 u_{2} + v_{2}\\\\2 u_{3} + v_{3}\\end{matrix}\\right]$"
      ],
      "text/plain": [
       "Matrix([\n",
       "[2*u_1 + v_1],\n",
       "[2*u_2 + v_2],\n",
       "[2*u_3 + v_3]])"
      ]
     },
     "execution_count": 50,
     "metadata": {},
     "output_type": "execute_result"
    }
   ],
   "source": [
    "2*u+v"
   ]
  },
  {
   "cell_type": "code",
   "execution_count": 51,
   "id": "b02c567a-4358-401f-ae5e-4dace50c68d6",
   "metadata": {},
   "outputs": [
    {
     "data": {
      "text/latex": [
       "$\\displaystyle u_{1} v_{1} + u_{2} v_{2} + u_{3} v_{3}$"
      ],
      "text/plain": [
       "u_1*v_1 + u_2*v_2 + u_3*v_3"
      ]
     },
     "execution_count": 51,
     "metadata": {},
     "output_type": "execute_result"
    }
   ],
   "source": [
    "u.dot(v)"
   ]
  },
  {
   "cell_type": "code",
   "execution_count": 52,
   "id": "be60326c-a52f-4061-a163-f2c7730200c4",
   "metadata": {},
   "outputs": [
    {
     "data": {
      "text/latex": [
       "$\\displaystyle \\left[\\begin{matrix}u_{2} v_{3} - u_{3} v_{2}\\\\- u_{1} v_{3} + u_{3} v_{1}\\\\u_{1} v_{2} - u_{2} v_{1}\\end{matrix}\\right]$"
      ],
      "text/plain": [
       "Matrix([\n",
       "[ u_2*v_3 - u_3*v_2],\n",
       "[-u_1*v_3 + u_3*v_1],\n",
       "[ u_1*v_2 - u_2*v_1]])"
      ]
     },
     "execution_count": 52,
     "metadata": {},
     "output_type": "execute_result"
    }
   ],
   "source": [
    "u.cross(v)"
   ]
  },
  {
   "cell_type": "code",
   "execution_count": 53,
   "id": "a6efef73-038b-4695-a8b4-540287316709",
   "metadata": {},
   "outputs": [
    {
     "data": {
      "text/latex": [
       "$\\displaystyle \\sqrt{\\left|{u_{1}}\\right|^{2} + \\left|{u_{2}}\\right|^{2} + \\left|{u_{3}}\\right|^{2}}$"
      ],
      "text/plain": [
       "sqrt(Abs(u_1)**2 + Abs(u_2)**2 + Abs(u_3)**2)"
      ]
     },
     "execution_count": 53,
     "metadata": {},
     "output_type": "execute_result"
    }
   ],
   "source": [
    "u.norm()"
   ]
  },
  {
   "cell_type": "code",
   "execution_count": 57,
   "id": "6c89ec8f-a486-4cc4-860c-63271fb4b4b8",
   "metadata": {},
   "outputs": [
    {
     "data": {
      "text/latex": [
       "$\\displaystyle \\left[\\begin{matrix}\\frac{v_{1} \\left(u_{1} v_{1} + u_{2} v_{2} + u_{3} v_{3}\\right)}{\\left|{v_{1}}\\right|^{2} + \\left|{v_{2}}\\right|^{2} + \\left|{v_{3}}\\right|^{2}}\\\\\\frac{v_{2} \\left(u_{1} v_{1} + u_{2} v_{2} + u_{3} v_{3}\\right)}{\\left|{v_{1}}\\right|^{2} + \\left|{v_{2}}\\right|^{2} + \\left|{v_{3}}\\right|^{2}}\\\\\\frac{v_{3} \\left(u_{1} v_{1} + u_{2} v_{2} + u_{3} v_{3}\\right)}{\\left|{v_{1}}\\right|^{2} + \\left|{v_{2}}\\right|^{2} + \\left|{v_{3}}\\right|^{2}}\\end{matrix}\\right]$"
      ],
      "text/plain": [
       "Matrix([\n",
       "[v_1*(u_1*v_1 + u_2*v_2 + u_3*v_3)/(Abs(v_1)**2 + Abs(v_2)**2 + Abs(v_3)**2)],\n",
       "[v_2*(u_1*v_1 + u_2*v_2 + u_3*v_3)/(Abs(v_1)**2 + Abs(v_2)**2 + Abs(v_3)**2)],\n",
       "[v_3*(u_1*v_1 + u_2*v_2 + u_3*v_3)/(Abs(v_1)**2 + Abs(v_2)**2 + Abs(v_3)**2)]])"
      ]
     },
     "execution_count": 57,
     "metadata": {},
     "output_type": "execute_result"
    }
   ],
   "source": [
    "proj_v_u= u.dot(v)/v.norm()**2 *v\n",
    "proj_v_u"
   ]
  },
  {
   "cell_type": "markdown",
   "id": "efaea809-7dc9-4891-bc34-841c00c008d5",
   "metadata": {},
   "source": [
    "$\\vec{r}(t) = \\vec{r}_0 + t \\vec{v}$"
   ]
  },
  {
   "cell_type": "code",
   "execution_count": 58,
   "id": "aa89e484-4577-4fdf-9c5e-9f62883d905d",
   "metadata": {},
   "outputs": [
    {
     "data": {
      "text/latex": [
       "$\\displaystyle \\left[\\begin{matrix}t + 1\\\\3 t + 1\\\\1 - t\\end{matrix}\\right]$"
      ],
      "text/plain": [
       "Matrix([\n",
       "[  t + 1],\n",
       "[3*t + 1],\n",
       "[  1 - t]])"
      ]
     },
     "execution_count": 58,
     "metadata": {},
     "output_type": "execute_result"
    }
   ],
   "source": [
    "r0=smp.Matrix([1,1,1])\n",
    "v=smp.Matrix([1,3,-1])\n",
    "r=r0+v*t\n",
    "r"
   ]
  },
  {
   "cell_type": "markdown",
   "id": "4ecf05fc-8a7b-4803-b4be-db7b0057afad",
   "metadata": {},
   "source": [
    "### Vec calculus "
   ]
  },
  {
   "cell_type": "code",
   "execution_count": 59,
   "id": "95b037d4-bfcd-4ad8-a754-87ad0a5cd566",
   "metadata": {},
   "outputs": [
    {
     "data": {
      "text/latex": [
       "$\\displaystyle \\left[\\begin{matrix}3 t\\\\\\sin{\\left(t \\right)}\\\\t^{2}\\end{matrix}\\right]$"
      ],
      "text/plain": [
       "Matrix([\n",
       "[   3*t],\n",
       "[sin(t)],\n",
       "[  t**2]])"
      ]
     },
     "execution_count": 59,
     "metadata": {},
     "output_type": "execute_result"
    }
   ],
   "source": [
    "r = smp.Matrix([3*t, smp.sin(t), t**2])\n",
    "r"
   ]
  },
  {
   "cell_type": "code",
   "execution_count": 60,
   "id": "042ac452-ca4d-4d8f-a688-e079da98ed44",
   "metadata": {},
   "outputs": [
    {
     "data": {
      "text/latex": [
       "$\\displaystyle \\left[\\begin{matrix}3\\\\\\cos{\\left(t \\right)}\\\\2 t\\end{matrix}\\right]$"
      ],
      "text/plain": [
       "Matrix([\n",
       "[     3],\n",
       "[cos(t)],\n",
       "[   2*t]])"
      ]
     },
     "execution_count": 60,
     "metadata": {},
     "output_type": "execute_result"
    }
   ],
   "source": [
    "smp.diff(r,t)"
   ]
  },
  {
   "cell_type": "markdown",
   "id": "e2f7ef35-9c55-4734-a536-252896130e12",
   "metadata": {},
   "source": [
    "**Example:** Find the angle between the velocity and acceleration as a function of time $\\theta(t)$"
   ]
  },
  {
   "cell_type": "code",
   "execution_count": 64,
   "id": "970c548d-9098-4d26-828a-a97cd1bf1af8",
   "metadata": {},
   "outputs": [
    {
     "data": {
      "text/latex": [
       "$\\displaystyle \\operatorname{acos}{\\left(\\frac{4 t - \\frac{\\sin{\\left(2 t \\right)}}{2}}{\\sqrt{\\left|{\\sin{\\left(t \\right)}}\\right|^{2} + 4} \\sqrt{4 \\left|{t}\\right|^{2} + \\left|{\\cos{\\left(t \\right)}}\\right|^{2} + 9}} \\right)}$"
      ],
      "text/plain": [
       "acos((4*t - sin(2*t)/2)/(sqrt(Abs(sin(t))**2 + 4)*sqrt(4*Abs(t)**2 + Abs(cos(t))**2 + 9)))"
      ]
     },
     "execution_count": 64,
     "metadata": {},
     "output_type": "execute_result"
    }
   ],
   "source": [
    "v=smp.diff(r,t)\n",
    "a=smp.diff(v,t)\n",
    "ctheta=v.dot(a)/(v.norm()*a.norm())\n",
    "theta = smp.acos(ctheta).simplify()\n",
    "theta"
   ]
  },
  {
   "cell_type": "code",
   "execution_count": 65,
   "id": "c2b33d5d-0f10-4751-afb8-b0dd4ad928a4",
   "metadata": {},
   "outputs": [
    {
     "data": {
      "text/latex": [
       "$\\displaystyle \\operatorname{acos}{\\left(\\frac{24 - \\frac{\\sin{\\left(12 \\right)}}{2}}{\\sqrt{\\sin^{2}{\\left(6 \\right)} + 4} \\sqrt{\\cos^{2}{\\left(6 \\right)} + 153}} \\right)}$"
      ],
      "text/plain": [
       "acos((24 - sin(12)/2)/(sqrt(sin(6)**2 + 4)*sqrt(cos(6)**2 + 153)))"
      ]
     },
     "execution_count": 65,
     "metadata": {},
     "output_type": "execute_result"
    }
   ],
   "source": [
    "theta.subs(t,6)"
   ]
  },
  {
   "cell_type": "code",
   "execution_count": 67,
   "id": "b0f1f6cf-9923-487c-9d8c-c5a016d84d2f",
   "metadata": {},
   "outputs": [
    {
     "data": {
      "text/latex": [
       "$\\displaystyle 0.251108015692338$"
      ],
      "text/plain": [
       "0.251108015692338"
      ]
     },
     "execution_count": 67,
     "metadata": {},
     "output_type": "execute_result"
    }
   ],
   "source": [
    "theta.subs(t,6).evalf()"
   ]
  },
  {
   "cell_type": "code",
   "execution_count": null,
   "id": "0f5998be-664f-4f4c-8608-9a15a3b505e3",
   "metadata": {},
   "outputs": [],
   "source": []
  },
  {
   "cell_type": "markdown",
   "id": "3050deee-6691-4403-aa39-96fd37212455",
   "metadata": {},
   "source": [
    "### Vector Integrals\n",
    "\n",
    "(Note: Will not add the +C)"
   ]
  },
  {
   "cell_type": "code",
   "execution_count": 68,
   "id": "fa1ad026-d197-4aed-9515-b8f7c7e6c0b2",
   "metadata": {},
   "outputs": [
    {
     "data": {
      "text/latex": [
       "$\\displaystyle \\left[\\begin{matrix}e^{t} \\cos{\\left(t \\right)}\\\\t^{4}\\\\\\frac{1}{t^{2} + 1}\\end{matrix}\\right]$"
      ],
      "text/plain": [
       "Matrix([\n",
       "[exp(t)*cos(t)],\n",
       "[         t**4],\n",
       "[ 1/(t**2 + 1)]])"
      ]
     },
     "execution_count": 68,
     "metadata": {},
     "output_type": "execute_result"
    }
   ],
   "source": [
    "r = smp.Matrix([smp.exp(t)*smp.cos(t), t**4, 1/(1+t**2)])\n",
    "r"
   ]
  },
  {
   "cell_type": "code",
   "execution_count": 70,
   "id": "74549516-0c6d-4981-a73e-2e8d8f939faf",
   "metadata": {},
   "outputs": [
    {
     "data": {
      "text/latex": [
       "$\\displaystyle \\left[\\begin{matrix}\\frac{e^{t} \\sin{\\left(t \\right)}}{2} + \\frac{e^{t} \\cos{\\left(t \\right)}}{2}\\\\\\frac{t^{5}}{5}\\\\\\operatorname{atan}{\\left(t \\right)}\\end{matrix}\\right]$"
      ],
      "text/plain": [
       "Matrix([\n",
       "[exp(t)*sin(t)/2 + exp(t)*cos(t)/2],\n",
       "[                           t**5/5],\n",
       "[                          atan(t)]])"
      ]
     },
     "execution_count": 70,
     "metadata": {},
     "output_type": "execute_result"
    }
   ],
   "source": [
    "smp.Integral(r,t).doit()"
   ]
  },
  {
   "cell_type": "code",
   "execution_count": 71,
   "id": "b2a21f72-9b96-4281-81e1-beab6f1b3ea2",
   "metadata": {},
   "outputs": [
    {
     "data": {
      "text/latex": [
       "$\\displaystyle \\left[\\begin{matrix}e^{t^{2}} \\cos^{3}{\\left(t \\right)}\\\\e^{- t^{4}}\\\\\\frac{1}{t^{2} + 3}\\end{matrix}\\right]$"
      ],
      "text/plain": [
       "Matrix([\n",
       "[exp(t**2)*cos(t)**3],\n",
       "[         exp(-t**4)],\n",
       "[       1/(t**2 + 3)]])"
      ]
     },
     "execution_count": 71,
     "metadata": {},
     "output_type": "execute_result"
    }
   ],
   "source": [
    "#Sometimes there is not an analitcally sol\n",
    "from scipy.integrate import quad_vec\n",
    "r = smp.Matrix([smp.exp(t**2)*smp.cos(t)**3, smp.exp(-t**4), 1/(3+t**2)])\n",
    "r"
   ]
  },
  {
   "cell_type": "code",
   "execution_count": 74,
   "id": "45d485c1-de58-421f-9d38-0c2b0b041fa5",
   "metadata": {},
   "outputs": [
    {
     "data": {
      "text/plain": [
       "array([[1.        ],\n",
       "       [1.        ],\n",
       "       [0.33333333]])"
      ]
     },
     "execution_count": 74,
     "metadata": {},
     "output_type": "execute_result"
    }
   ],
   "source": [
    "r_num=smp.lambdify([t],r)\n",
    "r_num(0)"
   ]
  },
  {
   "cell_type": "code",
   "execution_count": 75,
   "id": "c2645b77-25a2-46ff-9ddd-e1f47c35b642",
   "metadata": {},
   "outputs": [
    {
     "data": {
      "text/plain": [
       "array([[0.81549671],\n",
       "       [0.84483859],\n",
       "       [0.30229989]])"
      ]
     },
     "execution_count": 75,
     "metadata": {},
     "output_type": "execute_result"
    }
   ],
   "source": [
    "quad_vec(r_num,0,1)[0]"
   ]
  },
  {
   "cell_type": "code",
   "execution_count": 76,
   "id": "6e7b9cee-929f-4a0e-93db-f88de4fbf7d6",
   "metadata": {},
   "outputs": [
    {
     "data": {
      "text/plain": [
       "(array([[0.81549671],\n",
       "        [0.84483859],\n",
       "        [0.30229989]]),\n",
       " 4.039233845603321e-14)"
      ]
     },
     "execution_count": 76,
     "metadata": {},
     "output_type": "execute_result"
    }
   ],
   "source": [
    "quad_vec(r_num,0,1)  #also error"
   ]
  },
  {
   "cell_type": "markdown",
   "id": "a71de55f-dbd7-4545-8893-748ccfd38141",
   "metadata": {},
   "source": [
    "### Arclength\n",
    "\n",
    "$$L = \\int_a^b \\sqrt{dx^2 + dy^2 + dz^2} = \\int_a^b \\sqrt{(dx/dt)^2 + (dy/dt)^2 + (dz/dt)^2 } dt $$"
   ]
  },
  {
   "cell_type": "markdown",
   "id": "a98af6b2-dd60-4bf3-a0bd-7324064f047e",
   "metadata": {},
   "source": [
    "Rare Cases can be done symbolically. Find arclength of $\\left< 0, t, t^2 \\right>$ from $t=0$ to $t=1$"
   ]
  },
  {
   "cell_type": "code",
   "execution_count": 77,
   "id": "4ce845a2-7a1a-450c-a48d-6707befb469f",
   "metadata": {},
   "outputs": [
    {
     "data": {
      "text/latex": [
       "$\\displaystyle \\left[\\begin{matrix}0\\\\1\\\\1\\end{matrix}\\right]$"
      ],
      "text/plain": [
       "Matrix([\n",
       "[0],\n",
       "[1],\n",
       "[1]])"
      ]
     },
     "execution_count": 77,
     "metadata": {},
     "output_type": "execute_result"
    }
   ],
   "source": [
    "r= smp.Matrix([0,t,t**2])\n",
    "smp.integrate(smp.diff(r,t),(t,0,1))"
   ]
  },
  {
   "cell_type": "markdown",
   "id": "e3f16d03-5654-49f0-9163-0a82e441d812",
   "metadata": {},
   "source": [
    "# Examples\n",
    "\n",
    "The magnetic field at a point $\\vec{r}$ of a current configuration is \n",
    "\n",
    "$$\\vec{B}(\\vec{r}) = \\frac{\\mu_0}{4\\pi}\\int_t \\frac{I \\frac{d\\vec{\\ell}}{dt} \\times (\\vec{r}-\\vec{\\ell})}{|\\vec{r}-\\vec{\\ell}|^3} dt $$\n",
    "\n",
    "where $\\vec{r} = (x,y,z)$ and $\\vec{l} = (f(t), g(t), h(t))$ is a 1D curve in space that gives the location of the wire.\n",
    "\n",
    "**Part 1: Use Sympy to find the integrand as a single 3-vector**"
   ]
  },
  {
   "cell_type": "code",
   "execution_count": null,
   "id": "b37b93f2-2e28-4b3b-982c-8f4d0075fab7",
   "metadata": {},
   "outputs": [],
   "source": [
    "r=smp.Matrix([x,y,z])"
   ]
  },
  {
   "cell_type": "code",
   "execution_count": 78,
   "id": "bcde5fa7-9975-42e0-8066-63c0c3fa14fb",
   "metadata": {},
   "outputs": [
    {
     "data": {
      "text/latex": [
       "$\\displaystyle \\left[\\begin{matrix}\\frac{d}{d t} f{\\left(t \\right)}\\\\\\frac{d}{d t} g{\\left(t \\right)}\\\\\\frac{d}{d t} h{\\left(t \\right)}\\end{matrix}\\right]$"
      ],
      "text/plain": [
       "Matrix([\n",
       "[Derivative(f(t), t)],\n",
       "[Derivative(g(t), t)],\n",
       "[Derivative(h(t), t)]])"
      ]
     },
     "execution_count": 78,
     "metadata": {},
     "output_type": "execute_result"
    }
   ],
   "source": [
    "x, y, z, t, I, mu0 = smp.symbols('x y z t I \\mu_0', real=True)\n",
    "f, g, h = smp.symbols('f g h ',cls=smp.Function)\n",
    "f=f(t)\n",
    "g=g(t)\n",
    "h=h(t)\n",
    "r=smp.Matrix([x,y,z])\n",
    "l= smp.Matrix([f,g,h])\n",
    "dldt=smp.diff(l,t)\n",
    "dldt"
   ]
  },
  {
   "cell_type": "code",
   "execution_count": 79,
   "id": "bcd9937e-47f8-4bd3-9865-b12945636bd5",
   "metadata": {},
   "outputs": [
    {
     "data": {
      "text/latex": [
       "$\\displaystyle \\sqrt{x^{2} + y^{2} + z^{2}}$"
      ],
      "text/plain": [
       "sqrt(x**2 + y**2 + z**2)"
      ]
     },
     "execution_count": 79,
     "metadata": {},
     "output_type": "execute_result"
    }
   ],
   "source": [
    "r.norm()"
   ]
  },
  {
   "cell_type": "code",
   "execution_count": 93,
   "id": "7cce7e54-6a54-410d-b3b2-e957b1b3587b",
   "metadata": {},
   "outputs": [
    {
     "data": {
      "text/latex": [
       "$\\displaystyle \\left[\\begin{matrix}\\frac{I \\left(- \\left(y - g{\\left(t \\right)}\\right) \\frac{d}{d t} h{\\left(t \\right)} + \\left(z - h{\\left(t \\right)}\\right) \\frac{d}{d t} g{\\left(t \\right)}\\right)}{\\left(\\left|{x - f{\\left(t \\right)}}\\right|^{2} + \\left|{y - g{\\left(t \\right)}}\\right|^{2} + \\left|{z - h{\\left(t \\right)}}\\right|^{2}\\right)^{\\frac{3}{2}}}\\\\\\frac{I \\left(\\left(x - f{\\left(t \\right)}\\right) \\frac{d}{d t} h{\\left(t \\right)} - \\left(z - h{\\left(t \\right)}\\right) \\frac{d}{d t} f{\\left(t \\right)}\\right)}{\\left(\\left|{x - f{\\left(t \\right)}}\\right|^{2} + \\left|{y - g{\\left(t \\right)}}\\right|^{2} + \\left|{z - h{\\left(t \\right)}}\\right|^{2}\\right)^{\\frac{3}{2}}}\\\\\\frac{I \\left(- \\left(x - f{\\left(t \\right)}\\right) \\frac{d}{d t} g{\\left(t \\right)} + \\left(y - g{\\left(t \\right)}\\right) \\frac{d}{d t} f{\\left(t \\right)}\\right)}{\\left(\\left|{x - f{\\left(t \\right)}}\\right|^{2} + \\left|{y - g{\\left(t \\right)}}\\right|^{2} + \\left|{z - h{\\left(t \\right)}}\\right|^{2}\\right)^{\\frac{3}{2}}}\\end{matrix}\\right]$"
      ],
      "text/plain": [
       "Matrix([\n",
       "[I*(-(y - g(t))*Derivative(h(t), t) + (z - h(t))*Derivative(g(t), t))/(Abs(x - f(t))**2 + Abs(y - g(t))**2 + Abs(z - h(t))**2)**(3/2)],\n",
       "[ I*((x - f(t))*Derivative(h(t), t) - (z - h(t))*Derivative(f(t), t))/(Abs(x - f(t))**2 + Abs(y - g(t))**2 + Abs(z - h(t))**2)**(3/2)],\n",
       "[I*(-(x - f(t))*Derivative(g(t), t) + (y - g(t))*Derivative(f(t), t))/(Abs(x - f(t))**2 + Abs(y - g(t))**2 + Abs(z - h(t))**2)**(3/2)]])"
      ]
     },
     "execution_count": 93,
     "metadata": {},
     "output_type": "execute_result"
    }
   ],
   "source": [
    "dBdt = I* dldt.cross(r-l)/(r-l).norm()**3 #maybe missing the square \n",
    "dBdt\n"
   ]
  },
  {
   "cell_type": "markdown",
   "id": "c4da676b-d4a7-4514-b635-6b2b10978ac3",
   "metadata": {},
   "source": [
    "**Part 2**: Find the magnetic field a distance $H$ above a ring of radius $R$ flowing clockwise"
   ]
  },
  {
   "cell_type": "code",
   "execution_count": 96,
   "id": "74c18750-0259-4fdf-9fdc-d893f24076fb",
   "metadata": {},
   "outputs": [
    {
     "data": {
      "text/latex": [
       "$\\displaystyle \\left[\\begin{matrix}\\frac{H I R \\cos{\\left(t \\right)}}{\\left(H^{2} + R^{2}\\right)^{\\frac{3}{2}}}\\\\\\frac{H I R \\sin{\\left(t \\right)}}{\\left(H^{2} + R^{2}\\right)^{\\frac{3}{2}}}\\\\\\frac{I R^{2}}{\\left(H^{2} + R^{2}\\right)^{\\frac{3}{2}}}\\end{matrix}\\right]$"
      ],
      "text/plain": [
       "Matrix([\n",
       "[H*I*R*cos(t)/(H**2 + R**2)**(3/2)],\n",
       "[H*I*R*sin(t)/(H**2 + R**2)**(3/2)],\n",
       "[      I*R**2/(H**2 + R**2)**(3/2)]])"
      ]
     },
     "execution_count": 96,
     "metadata": {},
     "output_type": "execute_result"
    }
   ],
   "source": [
    "R, H = smp.symbols('R H', real=True)\n",
    "dBdt= dBdt.subs([(f, R*smp.cos(t)),\n",
    "                (g,R*smp.sin(t)),\n",
    "                (h,0),\n",
    "                (x,0),(y,0),(z,H)]).doit()\n",
    "dBdt.simplify()\n",
    "dBdt"
   ]
  },
  {
   "cell_type": "markdown",
   "id": "95db2e47-ba61-404a-94f5-6d82e02d645a",
   "metadata": {},
   "source": [
    "## Partial/Directional Derivatives"
   ]
  },
  {
   "cell_type": "markdown",
   "id": "d89588e1-09eb-4a95-9410-fa92ccb480b1",
   "metadata": {},
   "source": [
    "partial derivatives respect to $x$ and $y$ of $f(x,y)=y^2 \\sin{(x+y)}$"
   ]
  },
  {
   "cell_type": "code",
   "execution_count": 98,
   "id": "f3c8a1fc-e2a0-4792-bd39-87848532f327",
   "metadata": {},
   "outputs": [
    {
     "data": {
      "text/latex": [
       "$\\displaystyle x^{2} \\cos{\\left(x + y \\right)} + 2 x \\sin{\\left(x + y \\right)}$"
      ],
      "text/plain": [
       "x**2*cos(x + y) + 2*x*sin(x + y)"
      ]
     },
     "execution_count": 98,
     "metadata": {},
     "output_type": "execute_result"
    }
   ],
   "source": [
    "x, y, z = smp.symbols('x y z')\n",
    "f=x**2 * smp.sin(x+y)\n",
    "dfdx=smp.diff(f,x)\n",
    "dfdy=smp.diff(f,y)\n",
    "dfdx"
   ]
  },
  {
   "cell_type": "markdown",
   "id": "dfab7fd3-17ae-4f1e-9ecc-a3c95f881ebc",
   "metadata": {},
   "source": [
    "More compkicatet like $\\frac{\\partial^3 f}{\\partial x \\partial^2 y}$"
   ]
  },
  {
   "cell_type": "code",
   "execution_count": 99,
   "id": "9ed5d884-a377-4f0b-869d-c14298d0f6a9",
   "metadata": {},
   "outputs": [
    {
     "data": {
      "text/latex": [
       "$\\displaystyle - x \\left(x \\cos{\\left(x + y \\right)} + 2 \\sin{\\left(x + y \\right)}\\right)$"
      ],
      "text/plain": [
       "-x*(x*cos(x + y) + 2*sin(x + y))"
      ]
     },
     "execution_count": 99,
     "metadata": {},
     "output_type": "execute_result"
    }
   ],
   "source": [
    "smp.diff(f,y,y,x)"
   ]
  },
  {
   "cell_type": "markdown",
   "id": "0d18c240-2399-4072-89fc-ffadfa4b0eda",
   "metadata": {},
   "source": [
    "### The Chain Rule"
   ]
  },
  {
   "cell_type": "markdown",
   "id": "724a4253-80b9-478e-af7d-62af8aecd811",
   "metadata": {},
   "source": [
    "* Suppose $x$, $y$, and $z$ are functions of $t$ \n",
    "* $w$ is a function of $x$, $y$, and $z$. i.e $w=w(x,y,z)$\n",
    "\n",
    "Find $dw/dt$"
   ]
  },
  {
   "cell_type": "code",
   "execution_count": 101,
   "id": "3300c09b-86c2-4613-9362-19c795f97aad",
   "metadata": {},
   "outputs": [
    {
     "data": {
      "text/latex": [
       "$\\displaystyle \\frac{d}{d x{\\left(t \\right)}} w{\\left(x{\\left(t \\right)},y{\\left(t \\right)},z{\\left(t \\right)} \\right)} \\frac{d}{d t} x{\\left(t \\right)} + \\frac{d}{d y{\\left(t \\right)}} w{\\left(x{\\left(t \\right)},y{\\left(t \\right)},z{\\left(t \\right)} \\right)} \\frac{d}{d t} y{\\left(t \\right)} + \\frac{d}{d z{\\left(t \\right)}} w{\\left(x{\\left(t \\right)},y{\\left(t \\right)},z{\\left(t \\right)} \\right)} \\frac{d}{d t} z{\\left(t \\right)}$"
      ],
      "text/plain": [
       "Derivative(w(x(t), y(t), z(t)), x(t))*Derivative(x(t), t) + Derivative(w(x(t), y(t), z(t)), y(t))*Derivative(y(t), t) + Derivative(w(x(t), y(t), z(t)), z(t))*Derivative(z(t), t)"
      ]
     },
     "execution_count": 101,
     "metadata": {},
     "output_type": "execute_result"
    }
   ],
   "source": [
    "t = smp.symbols('t')\n",
    "x, y, z, w = smp.symbols('x y z w', cls=smp.Function)\n",
    "x=x(t)\n",
    "y=y(t)\n",
    "z=z(t)\n",
    "w=w(x,y,z)\n",
    "dwdt =smp.diff(w,t)\n",
    "dwdt"
   ]
  },
  {
   "cell_type": "markdown",
   "id": "256e4847-6cae-4175-ba16-de1994b8df68",
   "metadata": {},
   "source": [
    "Or put in specific functions:"
   ]
  },
  {
   "cell_type": "code",
   "execution_count": 104,
   "id": "ae9ff56c-6e7d-4ea4-b69c-3bab3133f821",
   "metadata": {},
   "outputs": [
    {
     "data": {
      "text/latex": [
       "$\\displaystyle x^{2}{\\left(t \\right)} + e^{y{\\left(t \\right)}} \\sin{\\left(z{\\left(t \\right)} \\right)}$"
      ],
      "text/plain": [
       "x(t)**2 + exp(y(t))*sin(z(t))"
      ]
     },
     "execution_count": 104,
     "metadata": {},
     "output_type": "execute_result"
    }
   ],
   "source": [
    "w1 = x**2+smp.exp(y)*smp.sin(z)\n",
    "w1"
   ]
  },
  {
   "cell_type": "code",
   "execution_count": 105,
   "id": "4e06a0f2-3e9e-438f-9ed0-b8e68029762c",
   "metadata": {},
   "outputs": [
    {
     "data": {
      "text/latex": [
       "$\\displaystyle 2 x{\\left(t \\right)} \\frac{d}{d t} x{\\left(t \\right)} + e^{y{\\left(t \\right)}} \\sin{\\left(z{\\left(t \\right)} \\right)} \\frac{d}{d t} y{\\left(t \\right)} + e^{y{\\left(t \\right)}} \\cos{\\left(z{\\left(t \\right)} \\right)} \\frac{d}{d t} z{\\left(t \\right)}$"
      ],
      "text/plain": [
       "2*x(t)*Derivative(x(t), t) + exp(y(t))*sin(z(t))*Derivative(y(t), t) + exp(y(t))*cos(z(t))*Derivative(z(t), t)"
      ]
     },
     "execution_count": 105,
     "metadata": {},
     "output_type": "execute_result"
    }
   ],
   "source": [
    "smp.diff(w1,t)"
   ]
  },
  {
   "cell_type": "code",
   "execution_count": 106,
   "id": "4948e2f8-b5cd-4d40-a237-952fd0b44642",
   "metadata": {
    "tags": []
   },
   "outputs": [
    {
     "data": {
      "text/latex": [
       "$\\displaystyle 2 t e^{\\cos{\\left(t \\right)}} \\cos{\\left(t^{2} \\right)} - e^{\\cos{\\left(t \\right)}} \\sin{\\left(t \\right)} \\sin{\\left(t^{2} \\right)} + 2 \\sin{\\left(t \\right)} \\cos{\\left(t \\right)}$"
      ],
      "text/plain": [
       "2*t*exp(cos(t))*cos(t**2) - exp(cos(t))*sin(t)*sin(t**2) + 2*sin(t)*cos(t)"
      ]
     },
     "execution_count": 106,
     "metadata": {},
     "output_type": "execute_result"
    }
   ],
   "source": [
    "w1 = x**2+smp.exp(y)*smp.sin(z)\n",
    "smp.diff(w1,t).subs([(x, smp.sin(t)),\n",
    "                    (y, smp.cos(t)),\n",
    "                    (z, t**2)]).doit()"
   ]
  },
  {
   "cell_type": "code",
   "execution_count": null,
   "id": "9249900a-fad2-4d4e-8451-5437b943e983",
   "metadata": {},
   "outputs": [],
   "source": []
  },
  {
   "cell_type": "markdown",
   "id": "4d359592-6590-4215-abea-6651c6f4abb0",
   "metadata": {
    "tags": []
   },
   "source": [
    "## Multiple Integrals"
   ]
  },
  {
   "cell_type": "markdown",
   "id": "ac5f9522-ac79-4847-a3cd-456545b11367",
   "metadata": {},
   "source": [
    "In rare cases these can be done symbolically:\n",
    "\n",
    "$$\\int_0^1 \\int_0^{1-x^2} \\int_3^{4-x^2-y^2} xdzdydx$$"
   ]
  },
  {
   "cell_type": "code",
   "execution_count": 107,
   "id": "15a23809-fa1e-4f74-b736-0072ba5d13cb",
   "metadata": {},
   "outputs": [
    {
     "data": {
      "text/latex": [
       "$\\displaystyle \\frac{1}{8}$"
      ],
      "text/plain": [
       "1/8"
      ]
     },
     "execution_count": 107,
     "metadata": {},
     "output_type": "execute_result"
    }
   ],
   "source": [
    "x, y, z= smp.symbols('x y z')\n",
    "f=x\n",
    "smp.integrate(f, (z,3,4-x**2-y**2), (y,0,1-x**2), (x,0,1))"
   ]
  },
  {
   "cell_type": "markdown",
   "id": "966ad5be-78ef-4c07-8dd5-495b0292b8d8",
   "metadata": {},
   "source": [
    "## Lagrangian Mechanics"
   ]
  },
  {
   "cell_type": "markdown",
   "id": "e4f1f07e-b366-465b-b643-77fc0a44c083",
   "metadata": {},
   "source": [
    "The (simplified) idea of Lagrangian mechanics is the that kinetic energy and potential energy of a system can be expressed in terms of generalized coordinates and velocity\n",
    "\n",
    "$$T = T(q,\\dot{q}) \\hspace{20mm} V=V(q,\\dot{q})$$\n",
    "\n",
    "where $q$ could be xyz of a point particle, or some angle $\\theta$ (pendulum), or whatever makes the problem easiest to solve. The defining $L=T-V$, the following equation gives the equations of motion $q(t)$\n",
    "\n",
    "$$\\frac{dL}{dq} - \\frac{d}{dt}\\frac{dL}{d\\dot{q}} = 0 $$\n",
    "\n",
    "for all the different $q$'s of the system. The equation above gives a second order differential equation for all the different $q(t)$s."
   ]
  },
  {
   "cell_type": "markdown",
   "id": "6567d0bf-a739-45df-bddb-30ae21d538de",
   "metadata": {},
   "source": [
    "**Example**: Find the equations of motion (in the form of differential equations)"
   ]
  },
  {
   "cell_type": "code",
   "execution_count": 112,
   "id": "be2356da-d6e0-48fc-bce9-7ab7b18918c5",
   "metadata": {},
   "outputs": [
    {
     "data": {
      "text/latex": [
       "$\\displaystyle - m_{1} \\frac{d^{2}}{d t^{2}} z{\\left(t \\right)} - \\frac{m_{2} \\left(- 2 R \\sin{\\left(\\theta{\\left(t \\right)} \\right)} \\left(\\frac{d}{d t} \\theta{\\left(t \\right)}\\right)^{2} + 2 R \\cos{\\left(\\theta{\\left(t \\right)} \\right)} \\frac{d^{2}}{d t^{2}} \\theta{\\left(t \\right)} + 2 \\frac{d^{2}}{d t^{2}} z{\\left(t \\right)}\\right)}{2}$"
      ],
      "text/plain": [
       "-m_1*Derivative(z(t), (t, 2)) - m_2*(-2*R*sin(\\theta(t))*Derivative(\\theta(t), t)**2 + 2*R*cos(\\theta(t))*Derivative(\\theta(t), (t, 2)) + 2*Derivative(z(t), (t, 2)))/2"
      ]
     },
     "execution_count": 112,
     "metadata": {},
     "output_type": "execute_result"
    }
   ],
   "source": [
    "t, R, g, m1, m2 = smp.symbols('t R g m_1 m_2')\n",
    "z, theta = smp.symbols(r'z \\theta', cls=smp.Function)\n",
    "z=z(t)\n",
    "theta=theta(t)\n",
    "dzdt = smp.diff(z,t)\n",
    "dthdt = smp.diff(theta, t)\n",
    "#location of the pendulum\n",
    "x= z + R*smp.sin(theta)\n",
    "y= -R*smp.cos(theta)\n",
    "# T and V\n",
    "T1= smp.Rational(1,2)*m1*(dzdt)**2\n",
    "T2= smp.Rational(1,2)* m2*(smp.diff(y,t)**2 + smp.diff(x,t)**2)\n",
    "T = T1 + T2\n",
    "V1=0\n",
    "V2= m2*g*y\n",
    "V=V1+V2\n",
    "L= T-V\n",
    "#EOM\n",
    "LE1= smp.diff(L,z) - smp.diff(smp.diff(L,dzdt),t)\n",
    "LE2= smp.diff(L,theta) - smp.diff(smp.diff(L,dthdt),t)\n",
    "LE1"
   ]
  },
  {
   "cell_type": "code",
   "execution_count": null,
   "id": "bb08ef9b-bc05-493e-bc21-5a16128032d6",
   "metadata": {},
   "outputs": [],
   "source": []
  },
  {
   "cell_type": "markdown",
   "id": "94422d76-e229-4af7-9664-5ef8c2593bb0",
   "metadata": {},
   "source": [
    "We want a system of two second order differential equations that we can solve"
   ]
  },
  {
   "cell_type": "code",
   "execution_count": 113,
   "id": "b8957e4e-9bb3-4f34-a47c-2704c9ae7804",
   "metadata": {},
   "outputs": [],
   "source": [
    "sols = smp.solve([LE1,LE2],[smp.diff(z,t,t),smp.diff(theta,t,t)])"
   ]
  },
  {
   "cell_type": "markdown",
   "id": "299e1718-40ca-4ca5-8de1-a90a28db73fa",
   "metadata": {},
   "source": [
    "It returns it like a dict"
   ]
  },
  {
   "cell_type": "code",
   "execution_count": 114,
   "id": "b81f17e9-1bcb-4bd8-8b65-2dc2a4cf3070",
   "metadata": {},
   "outputs": [
    {
     "data": {
      "text/latex": [
       "$\\displaystyle - \\frac{R m_{2} \\sin{\\left(\\theta{\\left(t \\right)} \\right)} \\cos{\\left(\\theta{\\left(t \\right)} \\right)} \\left(\\frac{d}{d t} \\theta{\\left(t \\right)}\\right)^{2}}{R m_{1} \\sin^{2}{\\left(\\theta{\\left(t \\right)} \\right)} + R m_{1} \\cos^{2}{\\left(\\theta{\\left(t \\right)} \\right)} + R m_{2} \\sin^{2}{\\left(\\theta{\\left(t \\right)} \\right)}} - \\frac{g m_{1} \\sin{\\left(\\theta{\\left(t \\right)} \\right)}}{R m_{1} \\sin^{2}{\\left(\\theta{\\left(t \\right)} \\right)} + R m_{1} \\cos^{2}{\\left(\\theta{\\left(t \\right)} \\right)} + R m_{2} \\sin^{2}{\\left(\\theta{\\left(t \\right)} \\right)}} - \\frac{g m_{2} \\sin{\\left(\\theta{\\left(t \\right)} \\right)}}{R m_{1} \\sin^{2}{\\left(\\theta{\\left(t \\right)} \\right)} + R m_{1} \\cos^{2}{\\left(\\theta{\\left(t \\right)} \\right)} + R m_{2} \\sin^{2}{\\left(\\theta{\\left(t \\right)} \\right)}}$"
      ],
      "text/plain": [
       "-R*m_2*sin(\\theta(t))*cos(\\theta(t))*Derivative(\\theta(t), t)**2/(R*m_1*sin(\\theta(t))**2 + R*m_1*cos(\\theta(t))**2 + R*m_2*sin(\\theta(t))**2) - g*m_1*sin(\\theta(t))/(R*m_1*sin(\\theta(t))**2 + R*m_1*cos(\\theta(t))**2 + R*m_2*sin(\\theta(t))**2) - g*m_2*sin(\\theta(t))/(R*m_1*sin(\\theta(t))**2 + R*m_1*cos(\\theta(t))**2 + R*m_2*sin(\\theta(t))**2)"
      ]
     },
     "execution_count": 114,
     "metadata": {},
     "output_type": "execute_result"
    }
   ],
   "source": [
    "sols[smp.diff(theta,t,t)]"
   ]
  },
  {
   "cell_type": "code",
   "execution_count": 115,
   "id": "4a9329bd-d6d0-47c9-942b-a7bf653a1355",
   "metadata": {},
   "outputs": [
    {
     "data": {
      "text/latex": [
       "$\\displaystyle \\frac{R m_{2} \\sin^{3}{\\left(\\theta{\\left(t \\right)} \\right)} \\left(\\frac{d}{d t} \\theta{\\left(t \\right)}\\right)^{2}}{m_{1} \\sin^{2}{\\left(\\theta{\\left(t \\right)} \\right)} + m_{1} \\cos^{2}{\\left(\\theta{\\left(t \\right)} \\right)} + m_{2} \\sin^{2}{\\left(\\theta{\\left(t \\right)} \\right)}} + \\frac{R m_{2} \\sin{\\left(\\theta{\\left(t \\right)} \\right)} \\cos^{2}{\\left(\\theta{\\left(t \\right)} \\right)} \\left(\\frac{d}{d t} \\theta{\\left(t \\right)}\\right)^{2}}{m_{1} \\sin^{2}{\\left(\\theta{\\left(t \\right)} \\right)} + m_{1} \\cos^{2}{\\left(\\theta{\\left(t \\right)} \\right)} + m_{2} \\sin^{2}{\\left(\\theta{\\left(t \\right)} \\right)}} + \\frac{g m_{2} \\sin{\\left(\\theta{\\left(t \\right)} \\right)} \\cos{\\left(\\theta{\\left(t \\right)} \\right)}}{m_{1} \\sin^{2}{\\left(\\theta{\\left(t \\right)} \\right)} + m_{1} \\cos^{2}{\\left(\\theta{\\left(t \\right)} \\right)} + m_{2} \\sin^{2}{\\left(\\theta{\\left(t \\right)} \\right)}}$"
      ],
      "text/plain": [
       "R*m_2*sin(\\theta(t))**3*Derivative(\\theta(t), t)**2/(m_1*sin(\\theta(t))**2 + m_1*cos(\\theta(t))**2 + m_2*sin(\\theta(t))**2) + R*m_2*sin(\\theta(t))*cos(\\theta(t))**2*Derivative(\\theta(t), t)**2/(m_1*sin(\\theta(t))**2 + m_1*cos(\\theta(t))**2 + m_2*sin(\\theta(t))**2) + g*m_2*sin(\\theta(t))*cos(\\theta(t))/(m_1*sin(\\theta(t))**2 + m_1*cos(\\theta(t))**2 + m_2*sin(\\theta(t))**2)"
      ]
     },
     "execution_count": 115,
     "metadata": {},
     "output_type": "execute_result"
    }
   ],
   "source": [
    "sols[smp.diff(z,t,t)]"
   ]
  },
  {
   "cell_type": "code",
   "execution_count": null,
   "id": "c08a6d37-8e75-4ddc-a0f8-895eb9f6f60f",
   "metadata": {},
   "outputs": [],
   "source": []
  }
 ],
 "metadata": {
  "kernelspec": {
   "display_name": "Python 3 (ipykernel)",
   "language": "python",
   "name": "python3"
  },
  "language_info": {
   "codemirror_mode": {
    "name": "ipython",
    "version": 3
   },
   "file_extension": ".py",
   "mimetype": "text/x-python",
   "name": "python",
   "nbconvert_exporter": "python",
   "pygments_lexer": "ipython3",
   "version": "3.9.15"
  }
 },
 "nbformat": 4,
 "nbformat_minor": 5
}
