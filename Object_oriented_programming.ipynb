{
 "cells": [
  {
   "cell_type": "markdown",
   "id": "ed582831",
   "metadata": {},
   "source": [
    "# OOP "
   ]
  },
  {
   "cell_type": "code",
   "execution_count": 1,
   "id": "7ca5631e",
   "metadata": {},
   "outputs": [],
   "source": [
    "import numpy as np\n",
    "import matplotlib.pyplot as plt\n",
    "from scipy.integrate import solve_ivp"
   ]
  },
  {
   "cell_type": "markdown",
   "id": "6862f66a",
   "metadata": {},
   "source": [
    "### Basics "
   ]
  },
  {
   "cell_type": "markdown",
   "id": "713d17c2",
   "metadata": {},
   "source": [
    "What is a rock? Gray (a color) a mass a density ecc... so a **class** is an object with attributes"
   ]
  },
  {
   "cell_type": "code",
   "execution_count": 2,
   "id": "7500ac58",
   "metadata": {},
   "outputs": [],
   "source": [
    "class Particle():\n",
    "    def __init__(self,x,y,z,vx,vy,vz,m): #self refered to the object \n",
    "        self.x=x\n",
    "        self.y=y#dot gives attribute to the class\n",
    "        self.z=z\n",
    "        self.vx=vx\n",
    "        self.vy=vy\n",
    "        self.vz=vz\n",
    "        self.m=m\n",
    "    def move(self,t):\n",
    "        self.x += self.vx * t\n",
    "        self.y += self.vy * t\n",
    "        self.z += self.vz * t\n",
    "    def get_distance_from_origin(self):\n",
    "        return np.sqrt(self.x**2 + self.y**2 + self.z**2) #all functions take self"
   ]
  },
  {
   "cell_type": "code",
   "execution_count": 4,
   "id": "28bba8ec",
   "metadata": {},
   "outputs": [],
   "source": [
    "p1=Particle(0,0,1,1,0,0,1)\n",
    "p2=Particle(1,0,0,10,0,3,2)\n"
   ]
  },
  {
   "cell_type": "code",
   "execution_count": 5,
   "id": "ca39e9d0",
   "metadata": {},
   "outputs": [
    {
     "data": {
      "text/plain": [
       "0"
      ]
     },
     "execution_count": 5,
     "metadata": {},
     "output_type": "execute_result"
    }
   ],
   "source": [
    "p1.x"
   ]
  },
  {
   "cell_type": "code",
   "execution_count": 6,
   "id": "e23c4bc8",
   "metadata": {},
   "outputs": [],
   "source": [
    "p1.move(2)"
   ]
  },
  {
   "cell_type": "code",
   "execution_count": 7,
   "id": "440c9e18",
   "metadata": {},
   "outputs": [
    {
     "data": {
      "text/plain": [
       "2"
      ]
     },
     "execution_count": 7,
     "metadata": {},
     "output_type": "execute_result"
    }
   ],
   "source": [
    "p1.x"
   ]
  },
  {
   "cell_type": "code",
   "execution_count": 8,
   "id": "f3d0009a",
   "metadata": {},
   "outputs": [
    {
     "data": {
      "text/plain": [
       "2.23606797749979"
      ]
     },
     "execution_count": 8,
     "metadata": {},
     "output_type": "execute_result"
    }
   ],
   "source": [
    "p1.get_distance_from_origin()"
   ]
  },
  {
   "cell_type": "markdown",
   "id": "4bd044d1",
   "metadata": {},
   "source": [
    "## Inheritance of Classes\n",
    "\n",
    "We know from real life:  a **proton** is a type of particle. Therefore:\n",
    "\n",
    "* a proton has all the characteristics of a particle\n",
    "* a proton has unique traits that are seperate from a particle\n",
    "\n",
    "This is precisely what class inheritance allows us to play with.\n",
    "\n",
    "* A **child** (proton) class *inherits* all the traits of its **parent** (particle). Furthermore, the child may have seperate traits from its parent."
   ]
  },
  {
   "cell_type": "code",
   "execution_count": 9,
   "id": "11888f37",
   "metadata": {},
   "outputs": [],
   "source": [
    "class Proton(Particle):\n",
    "    def __init__(self,x,y,z,vx,vy,vz):\n",
    "        self.q=1.6e-19\n",
    "        self.m= 9.11*e-31\n",
    "        super(Proton,self).__init__(x,y,z,vx,vy,vz,self.m)\n",
    "#So it calls the super class particle and attributes xy..m fro proton and add also the charge that is constant"
   ]
  },
  {
   "cell_type": "code",
   "execution_count": null,
   "id": "8f3916e0",
   "metadata": {},
   "outputs": [],
   "source": []
  }
 ],
 "metadata": {
  "kernelspec": {
   "display_name": "Python 3 (ipykernel)",
   "language": "python",
   "name": "python3"
  },
  "language_info": {
   "codemirror_mode": {
    "name": "ipython",
    "version": 3
   },
   "file_extension": ".py",
   "mimetype": "text/x-python",
   "name": "python",
   "nbconvert_exporter": "python",
   "pygments_lexer": "ipython3",
   "version": "3.9.8"
  }
 },
 "nbformat": 4,
 "nbformat_minor": 5
}
