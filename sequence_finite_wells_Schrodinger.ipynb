{
 "cells": [
  {
   "cell_type": "markdown",
   "id": "9bf08627",
   "metadata": {},
   "source": [
    "# Sequence of finite wells (approx for a crystal)"
   ]
  },
  {
   "cell_type": "code",
   "execution_count": 1,
   "id": "311c486c",
   "metadata": {},
   "outputs": [],
   "source": [
    "import numpy as np\n",
    "from scipy.linalg import eigh_tridiagonal\n",
    "import matplotlib.pyplot as plt\n",
    "plt.style.use(['science','notebook'])\n",
    "from scipy.interpolate import interp1d\n",
    "from scipy.integrate import quad"
   ]
  },
  {
   "cell_type": "markdown",
   "id": "c57a144e",
   "metadata": {},
   "source": [
    "## Theory \n",
    "Suppose one has a sequence of well each spaced a distance $b$ apart\n",
    "$\\newcommand{\\ket}[1]{\\left|{#1}\\right\\rangle}$\n",
    "\n",
    "$\\newcommand{\\bra}[1]{\\left\\langle{#1}\\right|}$"
   ]
  },
  {
   "cell_type": "code",
   "execution_count": 3,
   "id": "54fb0d6e",
   "metadata": {},
   "outputs": [
    {
     "data": {
      "text/plain": [
       "[<matplotlib.lines.Line2D at 0x11ff58ee0>]"
      ]
     },
     "execution_count": 3,
     "metadata": {},
     "output_type": "execute_result"
    },
    {
     "data": {
      "image/png": "[encoded data removed]",
      "text/plain": [
       "<Figure size 576x144 with 1 Axes>"
      ]
     },
     "metadata": {
      "needs_background": "light"
     },
     "output_type": "display_data"
    }
   ],
   "source": [
    "x=np.linspace(-5,5,10000)\n",
    "y=np.sum([-np.exp(-(x-a)**2/0.01) for a in range(-4,5) ], axis=0)\n",
    "plt.figure(figsize=(8,2))\n",
    "plt.grid()\n",
    "plt.xlabel('$x$')\n",
    "plt.ylabel('$V(x)$')\n",
    "plt.plot(x,y)"
   ]
  },
  {
   "cell_type": "markdown",
   "id": "265ae927",
   "metadata": {},
   "source": [
    "This can be used as a model for a solid, where each well represents a nucleus or proton. If one inserts an electron into this system, what are the allowed energy eigenvalues/eigenvectors of **bound** energies? (Remember that there are only finitely many bound energies for a finite quantum well)."
   ]
  },
  {
   "cell_type": "markdown",
   "id": "9ec61a53",
   "metadata": {},
   "source": [
    "**LINEAR COMBINATION OF ATOMIC ORBIRTALS (LCAO) Approximation**: This model **assumes** that molecular states are a linear combination of known atomic states. We'll use the notation\n",
    "\n",
    "$$\\ket{i}_j$$\n",
    "\n",
    "where this represents the $i$th excited state of the $j$th well. The LCAO approximation says that any state can be represented as \n",
    "\n",
    "$$\\ket{\\psi} = \\sum_{j} \\sum_i c_{ij}\\ket{i}_j$$\n",
    "\n",
    "where $c_ij$ are coefficients that make up the linear combination. Thus the $\\ket{i}_j$ form a complete basis. Suppose we have 3 wells, each with two states (a ground and excited state). In vector notation, we can write any state as\n",
    "\n",
    "$$\\ket{\\psi} = \\begin{bmatrix}c_1\\\\ c_2\\\\ c_3\\\\ c_4\\\\ c_5 \\\\ c_6  \\end{bmatrix} \\begin{matrix} \\to \\ket{0}_0\\\\ \\to \\ket{1}_0\\\\ \\to \\ket{0}_1\\\\ \\to \\ket{1}_1\\\\ \\to \\ket{0}_2\\\\ \\to \\ket{1}_2\\\\ \\end{matrix}$$\n",
    "\n",
    "where the $c$'s are the component of each of the $\\ket{i}_j$s of the basis:\n",
    "\n",
    "$$\\ket{\\psi} = c_1\\ket{0}_0 + c_2\\ket{1}_0 + c_3\\ket{0}_1 + c_4\\ket{1}_1 + c_1\\ket{0}_2 + c_1\\ket{1}_2$$\n",
    "\n",
    "The Hamiltonian $H = T+\\sum_i V_i$ of the full well system can be written in the basis of these $\\ket{i}_j$s where each element of the hamiltonian matrix is\n",
    "\n",
    "$$\\bra{i'}_{j'}H\\ket{i}_j$$\n",
    "\n",
    "once we have this matrix, we can solve for the eigenvalues and eigenvectors and we're done. We just need a way to get these elements. For this we use\n",
    "\n",
    "$$H = H_j + \\hat{V}_j$$\n",
    "\n",
    "where $H_j = T+V_j$ is the Hamiltonian of a well $j$ and $\\hat{V}_j=\\sum_{m \\neq j} V_{m}$ is the potential from all the adjacent wells. Letting $n=j-j'$ (the number of wells apart), the matrix elements are given by:\n",
    "\n",
    "$$\\begin{align*} \\bra{i'}_{j'}H\\ket{i}_{j} &= \\bra{i'}_{j'}H_j + \\hat{V}_j \\ket{i}_{j} \\\\ &= \\bra{i'}_{j'}E_i + \\hat{V}_j \\ket{i}_{j} \\\\ &= \\int_{-\\infty}^{\\infty} \\phi_{i'}^{*}(x \\pm nb) \\left[E_i+\\hat{V}(x)\\right]\\phi_{i}(x) dx \\end{align*}$$\n",
    "\n",
    "We can now get all the matrix elements and solve for the eigenvalues of the Hamiltonian!"
   ]
  },
  {
   "cell_type": "markdown",
   "id": "c7d6d8ae",
   "metadata": {},
   "source": [
    "### Let'do it "
   ]
  },
  {
   "cell_type": "markdown",
   "id": "78d829c4",
   "metadata": {},
   "source": [
    "Here's a function that solves for the *bound* (energies less than zero) eigenstates of some finite square well."
   ]
  },
  {
   "cell_type": "code",
   "execution_count": 48,
   "id": "0c1dab5d",
   "metadata": {},
   "outputs": [],
   "source": [
    "def solve_single_well(x,V , V0):\n",
    "    N=len(x)\n",
    "    dx=np.diff(x)[0]\n",
    "    main_diag=2*np.ones(N)/dx**2 + V(x,V0)\n",
    "    off_diag=-np.ones(N-1)/dx**2\n",
    "    Es, psis =eigh_tridiagonal(main_diag,off_diag, select='v', select_range=(-V0,0))\n",
    "    psis=psis/np.sqrt(((psis)**2).sum(axis=0)*dx)\n",
    "    return Es, psis.T"
   ]
  },
  {
   "cell_type": "markdown",
   "id": "b6679123",
   "metadata": {},
   "source": [
    "With these eigenstates/energies, we can compute the matrix elements $\\bra{i'}_{j'}H\\ket{i}_{j} = \\int_{-\\infty}^{\\infty} \\phi_{i'}^{*}(x \\pm nb) \\left[E_i+\\hat{V}(x)\\right]\\phi_{i}(x) dx $ of the Hamiltonian and solve our system!"
   ]
  },
  {
   "cell_type": "code",
   "execution_count": null,
   "id": "94430c70",
   "metadata": {},
   "outputs": [],
   "source": []
  },
  {
   "cell_type": "markdown",
   "id": "aea56d7a",
   "metadata": {},
   "source": [
    "## Examples to Consider\n",
    "\n",
    "1. Finite Square Well (single bound state)\n",
    "* $V_0 = 1$eV\n",
    "* Well Width $2a=0.35$nm\n",
    "* Well spacing $b = 3 \\cdot 2a$\n",
    "\n",
    "2. Finite Square Well (two bound states)\n",
    "* $V_0 = 5$eV\n",
    "* Well Width $2a=0.35$nm\n",
    "* Well spacing $b = 3 \\cdot 2a$\n",
    "\n",
    "3. Gaussian Well\n",
    "* $V = V_0 e^{-(3x/a)^2}$ where $V_0/(\\frac{\\hbar^2}{2ma^2}) = 36$\n",
    "* Well spacing $b = 2 \\cdot 2a$\n",
    "\n"
   ]
  },
  {
   "cell_type": "code",
   "execution_count": 49,
   "id": "e410d2fd",
   "metadata": {},
   "outputs": [],
   "source": [
    "#Example 1 with dimensions\n",
    "V0=1 #eV\n",
    "hbar=6.52112e-16 #eV s\n",
    "m=0.510999e6/(3e8)**2\n",
    "a=0.35e-9/2\n",
    "f=hbar**2/(2*m*a**2)\n",
    "#DImensionless pars\n",
    "V0=V0/f\n",
    "b=3*2"
   ]
  },
  {
   "cell_type": "code",
   "execution_count": 36,
   "id": "5a1e2415",
   "metadata": {},
   "outputs": [],
   "source": [
    "'''Dimensionfull parameters'''\n",
    "V0 = 5 #eV\n",
    "hbar = 6.582112e-16 #eV s\n",
    "m = 0.510999e6 / (3e8)**2 #eV s^2 / m^2\n",
    "a = 0.35e-9 / 2 # m \n",
    "f = hbar**2 / (2*m*a**2)\n",
    "'''Dimensionless parameters'''\n",
    "V0 = V0 / f\n",
    "b = 3 * 2"
   ]
  },
  {
   "cell_type": "code",
   "execution_count": 37,
   "id": "e32548bf",
   "metadata": {},
   "outputs": [],
   "source": [
    "'''Dimensionless parameters'''\n",
    "V0 = 36\n",
    "b = 2 * 2\n",
    "f = 1 # correction factor is 1 because we'll just look at dimensionless energy eigenvalues"
   ]
  },
  {
   "cell_type": "markdown",
   "id": "92fea3de",
   "metadata": {},
   "source": [
    "Get the potential for the particular example:"
   ]
  },
  {
   "cell_type": "code",
   "execution_count": 50,
   "id": "7044d954",
   "metadata": {},
   "outputs": [],
   "source": [
    "example = 1\n",
    "N = 100000\n",
    "x = np.linspace(-15,15,N)\n",
    "if example==1 or example==2:\n",
    "    def V(x, V0):\n",
    "        return -V0*np.array((x>=-1)*(x<=1), dtype=float)\n",
    "elif example==3:\n",
    "    def V(x,V0):\n",
    "        return -V0*np.exp(-(3*x)**2)"
   ]
  },
  {
   "cell_type": "code",
   "execution_count": 51,
   "id": "3a83c378",
   "metadata": {},
   "outputs": [
    {
     "data": {
      "text/plain": [
       "[<matplotlib.lines.Line2D at 0x15baa6310>]"
      ]
     },
     "execution_count": 51,
     "metadata": {},
     "output_type": "execute_result"
    },
    {
     "data": {
      "image/png": "[encoded data removed]",
      "text/plain": [
       "<Figure size 720x360 with 1 Axes>"
      ]
     },
     "metadata": {
      "needs_background": "light"
     },
     "output_type": "display_data"
    }
   ],
   "source": [
    "plt.figure(figsize=(10,5))\n",
    "plt.plot(x,V(x,V0))"
   ]
  },
  {
   "cell_type": "code",
   "execution_count": 52,
   "id": "1e31c7cd",
   "metadata": {},
   "outputs": [
    {
     "data": {
      "text/plain": [
       "array([-0.40978185])"
      ]
     },
     "execution_count": 52,
     "metadata": {},
     "output_type": "execute_result"
    }
   ],
   "source": [
    "Es, psis=solve_single_well(x,V,V0)   #dimensionless\n",
    "f*Es                                 #dimensionfull"
   ]
  },
  {
   "cell_type": "code",
   "execution_count": 53,
   "id": "c54bbc89",
   "metadata": {},
   "outputs": [
    {
     "data": {
      "image/png": "[encoded data removed]",
      "text/plain": [
       "<Figure size 720x360 with 1 Axes>"
      ]
     },
     "metadata": {
      "needs_background": "light"
     },
     "output_type": "display_data"
    }
   ],
   "source": [
    "plt.figure(figsize=(10,5))\n",
    "[plt.plot(x,psi) for psi in psis]  #in this case there is only one psi\n",
    "plt.show()\n"
   ]
  },
  {
   "cell_type": "markdown",
   "id": "3e295f2d",
   "metadata": {},
   "source": [
    "IN order to solve our integral we need an interpolated function that can compute the wavefunctions at any x"
   ]
  },
  {
   "cell_type": "code",
   "execution_count": 54,
   "id": "0b9ce270",
   "metadata": {},
   "outputs": [
    {
     "data": {
      "text/plain": [
       "array([[4.88166034e-08, 9.76332083e-08, 1.46449816e-07, ...,\n",
       "        1.46449816e-07, 9.76332083e-08, 4.88166034e-08]])"
      ]
     },
     "execution_count": 54,
     "metadata": {},
     "output_type": "execute_result"
    }
   ],
   "source": [
    "psis"
   ]
  },
  {
   "cell_type": "code",
   "execution_count": 55,
   "id": "f2ae625b",
   "metadata": {},
   "outputs": [
    {
     "data": {
      "text/plain": [
       "array(0.)"
      ]
     },
     "execution_count": 55,
     "metadata": {},
     "output_type": "execute_result"
    }
   ],
   "source": [
    "#be false means that outside the region of interpolation it will not give us an error if we put\n",
    "#an x outside that region \n",
    "psis_f=[interp1d(x, psi, bounds_error=False, fill_value=(0,0)) for psi in psis] \n",
    "\n",
    "psis_f[0](18)    # [0] stands for the ground state"
   ]
  },
  {
   "cell_type": "markdown",
   "id": "394b184c",
   "metadata": {},
   "source": [
    "Definine $\\hat{V}$ the potential from all the wells, excepted the cetered one at $x=0$"
   ]
  },
  {
   "cell_type": "code",
   "execution_count": 56,
   "id": "0f8671ee",
   "metadata": {},
   "outputs": [],
   "source": [
    "def Vp_f(x, b, V0):\n",
    "    return V((x+b/2)%b-b/2,V0) - V(x,V0)  # First part gives us the periodic structure\n"
   ]
  },
  {
   "cell_type": "code",
   "execution_count": 58,
   "id": "e8ffee16",
   "metadata": {},
   "outputs": [
    {
     "data": {
      "image/png": "[encoded data removed]",
      "text/plain": [
       "<Figure size 720x360 with 1 Axes>"
      ]
     },
     "metadata": {
      "needs_background": "light"
     },
     "output_type": "display_data"
    }
   ],
   "source": [
    "x_large = np.linspace(-20,20,10000)\n",
    "plt.figure(figsize=(10,5))\n",
    "plt.plot(x_large,psis_f[0](x_large)**2)\n",
    "plt.plot(x_large, psis_f[0](x_large - b)**2)\n",
    "\n",
    "plt.plot(x_large, Vp_f(x_large, b , V0), color='red')\n",
    "plt.show()"
   ]
  },
  {
   "cell_type": "markdown",
   "id": "68169f15",
   "metadata": {},
   "source": [
    "Now we have to evaluate that integral"
   ]
  },
  {
   "cell_type": "code",
   "execution_count": 59,
   "id": "b4dd0d02",
   "metadata": {},
   "outputs": [],
   "source": [
    "def compute_integral(psis_f, Es, i1, i2, b, V0, n):\n",
    "    return quad(lambda x: psis_f[i1](x)*psis_f[i2](x-n*b)*(Es[i1]+ Vp_f(x, b, V0)),\n",
    "                -20,20, points=[n*b for n in range(-6,6)], limit=10000)[0]"
   ]
  },
  {
   "cell_type": "code",
   "execution_count": 60,
   "id": "8f87a25a",
   "metadata": {},
   "outputs": [
    {
     "data": {
      "text/plain": [
       "-0.09488197561743208"
      ]
     },
     "execution_count": 60,
     "metadata": {},
     "output_type": "execute_result"
    }
   ],
   "source": [
    "f*compute_integral(psis_f, Es,0,0,b=6,V0=V0, n=1)"
   ]
  },
  {
   "cell_type": "markdown",
   "id": "e57ca0a4",
   "metadata": {},
   "source": [
    "### Hamiltonian Matrix\n"
   ]
  },
  {
   "cell_type": "code",
   "execution_count": 61,
   "id": "425229ab",
   "metadata": {},
   "outputs": [
    {
     "data": {
      "text/plain": [
       "array([[0., 0., 0., 0., 0., 0., 0., 0., 0., 0., 0., 0., 0., 0., 0., 0.,\n",
       "        0., 0., 0., 0.],\n",
       "       [0., 0., 0., 0., 0., 0., 0., 0., 0., 0., 0., 0., 0., 0., 0., 0.,\n",
       "        0., 0., 0., 0.],\n",
       "       [0., 0., 0., 0., 0., 0., 0., 0., 0., 0., 0., 0., 0., 0., 0., 0.,\n",
       "        0., 0., 0., 0.],\n",
       "       [0., 0., 0., 0., 0., 0., 0., 0., 0., 0., 0., 0., 0., 0., 0., 0.,\n",
       "        0., 0., 0., 0.],\n",
       "       [0., 0., 0., 0., 0., 0., 0., 0., 0., 0., 0., 0., 0., 0., 0., 0.,\n",
       "        0., 0., 0., 0.],\n",
       "       [0., 0., 0., 0., 0., 0., 0., 0., 0., 0., 0., 0., 0., 0., 0., 0.,\n",
       "        0., 0., 0., 0.],\n",
       "       [0., 0., 0., 0., 0., 0., 0., 0., 0., 0., 0., 0., 0., 0., 0., 0.,\n",
       "        0., 0., 0., 0.],\n",
       "       [0., 0., 0., 0., 0., 0., 0., 0., 0., 0., 0., 0., 0., 0., 0., 0.,\n",
       "        0., 0., 0., 0.],\n",
       "       [0., 0., 0., 0., 0., 0., 0., 0., 0., 0., 0., 0., 0., 0., 0., 0.,\n",
       "        0., 0., 0., 0.],\n",
       "       [0., 0., 0., 0., 0., 0., 0., 0., 0., 0., 0., 0., 0., 0., 0., 0.,\n",
       "        0., 0., 0., 0.],\n",
       "       [0., 0., 0., 0., 0., 0., 0., 0., 0., 0., 0., 0., 0., 0., 0., 0.,\n",
       "        0., 0., 0., 0.],\n",
       "       [0., 0., 0., 0., 0., 0., 0., 0., 0., 0., 0., 0., 0., 0., 0., 0.,\n",
       "        0., 0., 0., 0.],\n",
       "       [0., 0., 0., 0., 0., 0., 0., 0., 0., 0., 0., 0., 0., 0., 0., 0.,\n",
       "        0., 0., 0., 0.],\n",
       "       [0., 0., 0., 0., 0., 0., 0., 0., 0., 0., 0., 0., 0., 0., 0., 0.,\n",
       "        0., 0., 0., 0.],\n",
       "       [0., 0., 0., 0., 0., 0., 0., 0., 0., 0., 0., 0., 0., 0., 0., 0.,\n",
       "        0., 0., 0., 0.],\n",
       "       [0., 0., 0., 0., 0., 0., 0., 0., 0., 0., 0., 0., 0., 0., 0., 0.,\n",
       "        0., 0., 0., 0.],\n",
       "       [0., 0., 0., 0., 0., 0., 0., 0., 0., 0., 0., 0., 0., 0., 0., 0.,\n",
       "        0., 0., 0., 0.],\n",
       "       [0., 0., 0., 0., 0., 0., 0., 0., 0., 0., 0., 0., 0., 0., 0., 0.,\n",
       "        0., 0., 0., 0.],\n",
       "       [0., 0., 0., 0., 0., 0., 0., 0., 0., 0., 0., 0., 0., 0., 0., 0.,\n",
       "        0., 0., 0., 0.],\n",
       "       [0., 0., 0., 0., 0., 0., 0., 0., 0., 0., 0., 0., 0., 0., 0., 0.,\n",
       "        0., 0., 0., 0.]])"
      ]
     },
     "execution_count": 61,
     "metadata": {},
     "output_type": "execute_result"
    }
   ],
   "source": [
    "N_wells= 20\n",
    "N_states= len(Es)\n",
    "H = np.zeros((N_wells*N_states,N_wells*N_states))\n",
    "H"
   ]
  },
  {
   "cell_type": "code",
   "execution_count": 62,
   "id": "3208e2e7",
   "metadata": {},
   "outputs": [
    {
     "data": {
      "text/plain": [
       "[<scipy.interpolate._interpolate.interp1d at 0x15baffae0>]"
      ]
     },
     "execution_count": 62,
     "metadata": {},
     "output_type": "execute_result"
    }
   ],
   "source": [
    "psis_f"
   ]
  },
  {
   "cell_type": "code",
   "execution_count": null,
   "id": "45c348c7",
   "metadata": {},
   "outputs": [],
   "source": [
    "#Fill off the diagonals\n",
    "psis_tot=N_wells * psis_f. #list of inter functions\n",
    "Es-tot=N_wells* list(Es)\n",
    "for i1 in range(H.shape[0]):\n",
    "    for i2 in range(i1,H.shape[0]):\n",
    "        well1_idx = i1//N_states\n",
    "        well2_idx = i2//N_states\n",
    "        H[i1][i2] = compute_integral(psist_tot, Es_tot, i1, i2,b=b.V0=V0, n=well2_idx-well1_idx) )"
   ]
  },
  {
   "cell_type": "code",
   "execution_count": 64,
   "id": "fc5d3a82",
   "metadata": {},
   "outputs": [
    {
     "data": {
      "text/plain": [
       "[-0.33511353225685747]"
      ]
     },
     "execution_count": 64,
     "metadata": {},
     "output_type": "execute_result"
    }
   ],
   "source": []
  },
  {
   "cell_type": "code",
   "execution_count": null,
   "id": "bbfcd9b8",
   "metadata": {},
   "outputs": [],
   "source": []
  },
  {
   "cell_type": "code",
   "execution_count": null,
   "id": "b324c034",
   "metadata": {},
   "outputs": [],
   "source": []
  },
  {
   "cell_type": "code",
   "execution_count": null,
   "id": "ccb16101",
   "metadata": {},
   "outputs": [],
   "source": []
  },
  {
   "cell_type": "code",
   "execution_count": null,
   "id": "564dc329",
   "metadata": {},
   "outputs": [],
   "source": []
  },
  {
   "cell_type": "code",
   "execution_count": null,
   "id": "9899ee1f",
   "metadata": {},
   "outputs": [],
   "source": []
  },
  {
   "cell_type": "code",
   "execution_count": null,
   "id": "a338814f",
   "metadata": {},
   "outputs": [],
   "source": []
  }
 ],
 "metadata": {
  "kernelspec": {
   "display_name": "Python 3 (ipykernel)",
   "language": "python",
   "name": "python3"
  },
  "language_info": {
   "codemirror_mode": {
    "name": "ipython",
    "version": 3
   },
   "file_extension": ".py",
   "mimetype": "text/x-python",
   "name": "python",
   "nbconvert_exporter": "python",
   "pygments_lexer": "ipython3",
   "version": "3.9.8"
  }
 },
 "nbformat": 4,
 "nbformat_minor": 5
}
